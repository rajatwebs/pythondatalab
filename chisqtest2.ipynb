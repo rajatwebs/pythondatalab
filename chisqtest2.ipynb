{
 "cells": [
  {
   "cell_type": "markdown",
   "metadata": {},
   "source": [
    "In 2010 census of the city the weight of the individuals in a small city\n",
    "were found to be the following:-\n",
    "<50kg - 20%\n",
    "50kg to 35kg - 30%\n",
    ">75kg-50%\n",
    "\n",
    "In 2020 weight of n=500 individuals were sampled \n",
    "\n",
    "<50 = 140\n",
    "50 - 70 - 160\n",
    ">75 - 200"
   ]
  },
  {
   "cell_type": "code",
   "execution_count": 1,
   "metadata": {},
   "outputs": [
    {
     "name": "stdout",
     "output_type": "stream",
     "text": [
      "Observed: [140 160 200]\n",
      "Expected: [100. 150. 250.]\n",
      "Chi-Square Statistic: 26.666666666666668\n",
      "P-value: 1.61959679231261e-06\n",
      "Reject the null hypothesis: The weight distribution in 2020 differs from the 2010 census distribution.\n"
     ]
    }
   ],
   "source": [
    "import pandas as pd\n",
    "from scipy.stats import chisquare\n",
    "\n",
    "# Observed data from 2020\n",
    "observed = pd.Series([140, 160, 200], index=['<50kg', '50-70kg', '>75kg'])\n",
    "\n",
    "# Expected distribution percentages from the 2010 census\n",
    "expected_percentages = [0.20, 0.30, 0.50]\n",
    "total_sampled = 500\n",
    "expected = pd.Series([p * total_sampled for p in expected_percentages], index=['<50kg', '50-70kg', '>75kg'])\n",
    "\n",
    "# Perform Chi-Square Test\n",
    "chi_stat, p_value = chisquare(f_obs=observed, f_exp=expected)\n",
    "\n",
    "# Results\n",
    "print(\"Observed:\", observed.values)\n",
    "print(\"Expected:\", expected.values)\n",
    "print(\"Chi-Square Statistic:\", chi_stat)\n",
    "print(\"P-value:\", p_value)\n",
    "\n",
    "# Interpret the p-value\n",
    "alpha = 0.05  # Significance level\n",
    "if p_value < alpha:\n",
    "    print(\"Reject the null hypothesis: The weight distribution in 2020 differs from the 2010 census distribution.\")\n",
    "else:\n",
    "    print(\"Fail to reject the null hypothesis: The weight distribution in 2020 aligns with the 2010 census distribution.\")"
   ]
  }
 ],
 "metadata": {
  "kernelspec": {
   "display_name": "Python 3",
   "language": "python",
   "name": "python3"
  },
  "language_info": {
   "codemirror_mode": {
    "name": "ipython",
    "version": 3
   },
   "file_extension": ".py",
   "mimetype": "text/x-python",
   "name": "python",
   "nbconvert_exporter": "python",
   "pygments_lexer": "ipython3",
   "version": "3.11.4"
  }
 },
 "nbformat": 4,
 "nbformat_minor": 2
}
