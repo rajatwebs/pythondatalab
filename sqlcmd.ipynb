{
 "cells": [
  {
   "cell_type": "code",
   "execution_count": 11,
   "id": "7d3c43a1",
   "metadata": {},
   "outputs": [],
   "source": [
    "import sqlite3"
   ]
  },
  {
   "cell_type": "code",
   "execution_count": 12,
   "id": "8fa97186",
   "metadata": {},
   "outputs": [],
   "source": [
    "# Connect to in-memory SQLite database\n",
    "conn = sqlite3.connect(\":memory:\")\n",
    "cursor = conn.cursor()\n"
   ]
  },
  {
   "cell_type": "code",
   "execution_count": 3,
   "metadata": {},
   "outputs": [
    {
     "data": {
      "text/plain": [
       "<sqlite3.Cursor at 0x220ae6cd7c0>"
      ]
     },
     "execution_count": 3,
     "metadata": {},
     "output_type": "execute_result"
    }
   ],
   "source": [
    "# Create DEPT table\n",
    "cursor.execute(\"\"\"\n",
    "CREATE TABLE DEPT (\n",
    " DEPTNO INTEGER PRIMARY KEY,\n",
    " DNAME TEXT,\n",
    " LOC TEXT\n",
    ")\n",
    "\"\"\")"
   ]
  },
  {
   "cell_type": "code",
   "execution_count": 4,
   "id": "38d5666c",
   "metadata": {},
   "outputs": [
    {
     "data": {
      "text/plain": [
       "<sqlite3.Cursor at 0x220ae6cd7c0>"
      ]
     },
     "execution_count": 4,
     "metadata": {},
     "output_type": "execute_result"
    }
   ],
   "source": [
    "# Create EMP table\n",
    "cursor.execute(\"\"\"\n",
    "CREATE TABLE EMP (\n",
    " EMPNO INTEGER PRIMARY KEY,\n",
    " ENAME TEXT,\n",
    " JOB TEXT,\n",
    " MGR INTEGER,\n",
    " HIREDATE TEXT,\n",
    " SAL REAL,\n",
    " COMM REAL,\n",
    " DEPTNO INTEGER,\n",
    " FOREIGN KEY (DEPTNO) REFERENCES DEPT(DEPTNO)\n",
    ")\n",
    "\"\"\")"
   ]
  },
  {
   "cell_type": "code",
   "execution_count": 5,
   "id": "926d9a25",
   "metadata": {},
   "outputs": [
    {
     "data": {
      "text/plain": [
       "<sqlite3.Cursor at 0x220ae6cd7c0>"
      ]
     },
     "execution_count": 5,
     "metadata": {},
     "output_type": "execute_result"
    }
   ],
   "source": [
    "# Insert sample data into DEPT\n",
    "dept_data = [\n",
    " (10, 'ACCOUNTING', 'NEW YORK'),\n",
    " (20, 'RESEARCH', 'DALLAS'),\n",
    " (30, 'SALES', 'CHICAGO'),\n",
    " (40, 'OPERATIONS', 'BOSTON')\n",
    "]\n",
    "cursor.executemany(\"INSERT INTO DEPT VALUES (?, ?, ?)\", dept_data)"
   ]
  },
  {
   "cell_type": "code",
   "execution_count": 6,
   "id": "db4859a7",
   "metadata": {},
   "outputs": [
    {
     "data": {
      "text/plain": [
       "<sqlite3.Cursor at 0x220ae6cd7c0>"
      ]
     },
     "execution_count": 6,
     "metadata": {},
     "output_type": "execute_result"
    }
   ],
   "source": [
    "# Insert sample data into EMP\n",
    "emp_data = [\n",
    " (7839, 'KING', 'PRESIDENT', None, '1981-11-17', 5000, None, 10),\n",
    " (7566, 'JONES', 'MANAGER', 7839, '1981-04-02', 2975, None, 20),\n",
    " (7698, 'BLAKE', 'MANAGER', 7839, '1981-05-01', 2850, None, 30),\n",
    " (7782, 'CLARK', 'MANAGER', 7839, '1981-06-09', 2450, None, 10),\n",
    " (7902, 'FORD', 'ANALYST', 7566, '1981-12-03', 3000, None, 20),\n",
    " (7369, 'SMITH', 'CLERK', 7902, '1980-12-17', 800, None, 20),\n",
    " (7499, 'ALLEN', 'SALESMAN', 7698, '1981-02-20', 1600, 300, 30),\n",
    " (7521, 'WARD', 'SALESMAN', 7698, '1981-02-22', 1250, 500, 30),\n",
    " (7654, 'MARTIN', 'SALESMAN', 7698, '1981-09-28', 1250, 1400, 30),\n",
    " (7844, 'TURNER', 'SALESMAN', 7698, '1981-06-09', 1500, 0, 30),\n",
    " (7876, 'ADAMS', 'CLERK', 7788, '1983-01-12', 1100, None, 20),\n",
    " (7934, 'MILLER', 'CLERK', 7782, '1982-01-23', 1300, None, 10)\n",
    "]\n",
    "cursor.executemany(\"INSERT INTO EMP VALUES (?, ?, ?, ?, ?, ?, ?, ?)\", emp_data)\n"
   ]
  },
  {
   "cell_type": "code",
   "execution_count": 24,
   "metadata": {},
   "outputs": [],
   "source": [
    "# List of 30 SQL commands\n",
    "sql_commands = [\n",
    " # Basic Search & Filtering\n",
    " \"SELECT * FROM EMP\",\n",
    " \"SELECT ENAME, SAL FROM EMP WHERE SAL > 3000\",\n",
    " \"SELECT ENAME FROM EMP WHERE JOB = 'MANAGER'\",\n",
    " \"SELECT ENAME, DEPTNO FROM EMP WHERE DEPTNO = 10\",\n",
    " \"SELECT ENAME FROM EMP WHERE HIREDATE BETWEEN '1981-01-01' AND '1981-12-31'\",\n",
    " # Pattern Matching with LIKE\n",
    " \"SELECT ENAME FROM EMP WHERE ENAME LIKE 'S%'\",\n",
    " \"SELECT ENAME FROM EMP WHERE ENAME LIKE '%N'\",\n",
    " \"SELECT ENAME FROM EMP WHERE ENAME LIKE '_A%'\",\n",
    " \"SELECT ENAME FROM EMP WHERE ENAME LIKE 'A%'\",\n",
    " \"SELECT ENAME FROM EMP WHERE ENAME NOT LIKE '%R%'\",\n",
    " # Grouping & Aggregation\n",
    " \"SELECT DEPTNO, COUNT(*) FROM EMP GROUP BY DEPTNO\",\n",
    " \"SELECT JOB, AVG(SAL) FROM EMP GROUP BY JOB\",\n",
    " \"SELECT DEPTNO, MAX(SAL), MIN(SAL) FROM EMP GROUP BY DEPTNO\",\n",
    " \"SELECT JOB, SUM(SAL) FROM EMP GROUP BY JOB\",\n",
    " \"SELECT DEPTNO, COUNT(*) AS EMP_COUNT FROM EMP GROUP BY DEPTNO\",\n",
    " # HAVING Clause\n",
    " \"SELECT DEPTNO, AVG(SAL) FROM EMP GROUP BY DEPTNO HAVING AVG(SAL) > 3000\",\n",
    " \"SELECT JOB, COUNT(*) FROM EMP GROUP BY JOB HAVING COUNT(*) > 2\",\n",
    " \"SELECT DEPTNO, SUM(SAL) FROM EMP GROUP BY DEPTNO HAVING SUM(SAL) < 10000\",\n",
    " \"SELECT JOB, MAX(SAL) FROM EMP GROUP BY JOB HAVING MAX(SAL) > 4000\",\n",
    " \"SELECT DEPTNO, COUNT(*) FROM EMP GROUP BY DEPTNO HAVING COUNT(*) BETWEEN 2 AND 5\",\n",
    " # Joins (LEFT, RIGHT, FULL)\n",
    " \"SELECT E.ENAME, D.DNAME FROM EMP E LEFT JOIN DEPT D ON E.DEPTNO = D.DEPTNO\",\n",
    " # RIGHT JOIN not supported in SQLite, simulate using LEFT JOIN + UNION\n",
    " \"SELECT E.ENAME, D.DNAME FROM DEPT D LEFT JOIN EMP E ON E.DEPTNO = D.DEPTNO\",\n",
    " # FULL OUTER JOIN not supported, simulate using UNION of LEFT and RIGHT\n",
    " \"\"\"SELECT E.ENAME, D.DNAME FROM EMP E LEFT JOIN DEPT D ON E.DEPTNO = D.DEPTNO UNION\n",
    " SELECT E.ENAME, D.DNAME FROM DEPT D LEFT JOIN EMP E ON E.DEPTNO = D.DEPTNO\"\"\",\n",
    " \"SELECT E.ENAME, D.LOC FROM EMP E LEFT JOIN DEPT D ON E.DEPTNO = D.DEPTNO WHERE D.LOC = 'NEW YORK'\",\n",
    " \"SELECT D.DNAME, COUNT(E.EMPNO) FROM DEPT D LEFT JOIN EMP E ON D.DEPTNO = E.DEPTNO GROUP BY D.DNAME\",\n",
    " # Ordering Results\n",
    " \"SELECT ENAME, SAL FROM EMP ORDER BY SAL DESC\",\n",
    " \"SELECT ENAME, HIREDATE FROM EMP ORDER BY HIREDATE ASC\",\n",
    " \"SELECT ENAME, JOB FROM EMP ORDER BY JOB, ENAME\",\n",
    " \"SELECT ENAME, DEPTNO FROM EMP ORDER BY DEPTNO, ENAME\",\n",
    " \"SELECT ENAME, SAL FROM EMP ORDER BY SAL DESC LIMIT 5\"\n",
    "]\n"
   ]
  },
  {
   "cell_type": "code",
   "execution_count": 9,
   "id": "2767286e",
   "metadata": {},
   "outputs": [
    {
     "name": "stdout",
     "output_type": "stream",
     "text": [
      "(7369, 'SMITH', 'CLERK', 7902, '1980-12-17', 800.0, None, 20)\n",
      "(7499, 'ALLEN', 'SALESMAN', 7698, '1981-02-20', 1600.0, 300.0, 30)\n",
      "(7521, 'WARD', 'SALESMAN', 7698, '1981-02-22', 1250.0, 500.0, 30)\n",
      "(7566, 'JONES', 'MANAGER', 7839, '1981-04-02', 2975.0, None, 20)\n",
      "(7654, 'MARTIN', 'SALESMAN', 7698, '1981-09-28', 1250.0, 1400.0, 30)\n",
      "(7698, 'BLAKE', 'MANAGER', 7839, '1981-05-01', 2850.0, None, 30)\n",
      "(7782, 'CLARK', 'MANAGER', 7839, '1981-06-09', 2450.0, None, 10)\n",
      "(7839, 'KING', 'PRESIDENT', None, '1981-11-17', 5000.0, None, 10)\n",
      "(7844, 'TURNER', 'SALESMAN', 7698, '1981-06-09', 1500.0, 0.0, 30)\n",
      "(7876, 'ADAMS', 'CLERK', 7788, '1983-01-12', 1100.0, None, 20)\n",
      "(7902, 'FORD', 'ANALYST', 7566, '1981-12-03', 3000.0, None, 20)\n",
      "(7934, 'MILLER', 'CLERK', 7782, '1982-01-23', 1300.0, None, 10)\n"
     ]
    }
   ],
   "source": [
    "rows=cursor.execute(\"SELECT * FROM EMP\")\n",
    "for row in rows:\n",
    "    print(row)\n"
   ]
  },
  {
   "cell_type": "code",
   "execution_count": 10,
   "id": "57d3b23b",
   "metadata": {},
   "outputs": [
    {
     "name": "stdout",
     "output_type": "stream",
     "text": [
      "('KING', 5000.0)\n"
     ]
    }
   ],
   "source": [
    "rows=cursor.execute(\"SELECT ENAME, SAL FROM EMP WHERE SAL > 3000\")\n",
    "for row in rows:\n",
    "    print(row)"
   ]
  },
  {
   "cell_type": "code",
   "execution_count": 25,
   "id": "b36077dc",
   "metadata": {},
   "outputs": [
    {
     "name": "stdout",
     "output_type": "stream",
     "text": [
      "\n",
      "Query 1: SELECT * FROM EMP\n",
      "(7369, 'SMITH', 'CLERK', 7902, '1980-12-17', 800.0, None, 20)\n",
      "(7499, 'ALLEN', 'SALESMAN', 7698, '1981-02-20', 1600.0, 300.0, 30)\n",
      "(7521, 'WARD', 'SALESMAN', 7698, '1981-02-22', 1250.0, 500.0, 30)\n",
      "(7566, 'JONES', 'MANAGER', 7839, '1981-04-02', 2975.0, None, 20)\n",
      "(7654, 'MARTIN', 'SALESMAN', 7698, '1981-09-28', 1250.0, 1400.0, 30)\n",
      "(7698, 'BLAKE', 'MANAGER', 7839, '1981-05-01', 2850.0, None, 30)\n",
      "(7782, 'CLARK', 'MANAGER', 7839, '1981-06-09', 2450.0, None, 10)\n",
      "(7839, 'KING', 'PRESIDENT', None, '1981-11-17', 5000.0, None, 10)\n",
      "(7844, 'TURNER', 'SALESMAN', 7698, '1981-06-09', 1500.0, 0.0, 30)\n",
      "(7876, 'ADAMS', 'CLERK', 7788, '1983-01-12', 1100.0, None, 20)\n",
      "(7902, 'FORD', 'ANALYST', 7566, '1981-12-03', 3000.0, None, 20)\n",
      "(7934, 'MILLER', 'CLERK', 7782, '1982-01-23', 1300.0, None, 10)\n",
      "\n",
      "Query 2: SELECT ENAME, SAL FROM EMP WHERE SAL > 3000\n",
      "('KING', 5000.0)\n",
      "\n",
      "Query 3: SELECT ENAME FROM EMP WHERE JOB = 'MANAGER'\n",
      "('JONES',)\n",
      "('BLAKE',)\n",
      "('CLARK',)\n",
      "\n",
      "Query 4: SELECT ENAME, DEPTNO FROM EMP WHERE DEPTNO = 10\n",
      "('CLARK', 10)\n",
      "('KING', 10)\n",
      "('MILLER', 10)\n",
      "\n",
      "Query 5: SELECT ENAME FROM EMP WHERE HIREDATE BETWEEN '1981-01-01' AND '1981-12-31'\n",
      "('ALLEN',)\n",
      "('WARD',)\n",
      "('JONES',)\n",
      "('MARTIN',)\n",
      "('BLAKE',)\n",
      "('CLARK',)\n",
      "('KING',)\n",
      "('TURNER',)\n",
      "('FORD',)\n",
      "\n",
      "Query 6: SELECT ENAME FROM EMP WHERE ENAME LIKE 'S%'\n",
      "('SMITH',)\n",
      "\n",
      "Query 7: SELECT ENAME FROM EMP WHERE ENAME LIKE '%N'\n",
      "('ALLEN',)\n",
      "('MARTIN',)\n",
      "\n",
      "Query 8: SELECT ENAME FROM EMP WHERE ENAME LIKE '_A%'\n",
      "('WARD',)\n",
      "('MARTIN',)\n",
      "\n",
      "Query 9: SELECT ENAME FROM EMP WHERE ENAME LIKE 'A%'\n",
      "('ALLEN',)\n",
      "('ADAMS',)\n",
      "\n",
      "Query 10: SELECT ENAME FROM EMP WHERE ENAME NOT LIKE '%R%'\n",
      "('SMITH',)\n",
      "('ALLEN',)\n",
      "('JONES',)\n",
      "('BLAKE',)\n",
      "('KING',)\n",
      "('ADAMS',)\n",
      "\n",
      "Query 11: SELECT DEPTNO, COUNT(*) FROM EMP GROUP BY DEPTNO\n",
      "(10, 3)\n",
      "(20, 4)\n",
      "(30, 5)\n",
      "\n",
      "Query 12: SELECT JOB, AVG(SAL) FROM EMP GROUP BY JOB\n",
      "('ANALYST', 3000.0)\n",
      "('CLERK', 1066.6666666666667)\n",
      "('MANAGER', 2758.3333333333335)\n",
      "('PRESIDENT', 5000.0)\n",
      "('SALESMAN', 1400.0)\n",
      "\n",
      "Query 13: SELECT DEPTNO, MAX(SAL), MIN(SAL) FROM EMP GROUP BY DEPTNO\n",
      "(10, 5000.0, 1300.0)\n",
      "(20, 3000.0, 800.0)\n",
      "(30, 2850.0, 1250.0)\n",
      "\n",
      "Query 14: SELECT JOB, SUM(SAL) FROM EMP GROUP BY JOB\n",
      "('ANALYST', 3000.0)\n",
      "('CLERK', 3200.0)\n",
      "('MANAGER', 8275.0)\n",
      "('PRESIDENT', 5000.0)\n",
      "('SALESMAN', 5600.0)\n",
      "\n",
      "Query 15: SELECT DEPTNO, COUNT(*) AS EMP_COUNT FROM EMP GROUP BY DEPTNO\n",
      "(10, 3)\n",
      "(20, 4)\n",
      "(30, 5)\n",
      "\n",
      "Query 16: SELECT DEPTNO, AVG(SAL) FROM EMP GROUP BY DEPTNO HAVING AVG(SAL) > 3000\n",
      "Query executed successfully (no rows returned).\n",
      "\n",
      "Query 17: SELECT JOB, COUNT(*) FROM EMP GROUP BY JOB HAVING COUNT(*) > 2\n",
      "('CLERK', 3)\n",
      "('MANAGER', 3)\n",
      "('SALESMAN', 4)\n",
      "\n",
      "Query 18: SELECT DEPTNO, SUM(SAL) FROM EMP GROUP BY DEPTNO HAVING SUM(SAL) < 10000\n",
      "(10, 8750.0)\n",
      "(20, 7875.0)\n",
      "(30, 8450.0)\n",
      "\n",
      "Query 19: SELECT JOB, MAX(SAL) FROM EMP GROUP BY JOB HAVING MAX(SAL) > 4000\n",
      "('PRESIDENT', 5000.0)\n",
      "\n",
      "Query 20: SELECT DEPTNO, COUNT(*) FROM EMP GROUP BY DEPTNO HAVING COUNT(*) BETWEEN 2 AND 5\n",
      "(10, 3)\n",
      "(20, 4)\n",
      "(30, 5)\n",
      "\n",
      "Query 21: SELECT E.ENAME, D.DNAME FROM EMP E LEFT JOIN DEPT D ON E.DEPTNO = D.DEPTNO\n",
      "('SMITH', 'RESEARCH')\n",
      "('ALLEN', 'SALES')\n",
      "('WARD', 'SALES')\n",
      "('JONES', 'RESEARCH')\n",
      "('MARTIN', 'SALES')\n",
      "('BLAKE', 'SALES')\n",
      "('CLARK', 'ACCOUNTING')\n",
      "('KING', 'ACCOUNTING')\n",
      "('TURNER', 'SALES')\n",
      "('ADAMS', 'RESEARCH')\n",
      "('FORD', 'RESEARCH')\n",
      "('MILLER', 'ACCOUNTING')\n",
      "\n",
      "Query 22: SELECT E.ENAME, D.DNAME FROM DEPT D LEFT JOIN EMP E ON E.DEPTNO = D.DEPTNO\n",
      "('CLARK', 'ACCOUNTING')\n",
      "('KING', 'ACCOUNTING')\n",
      "('MILLER', 'ACCOUNTING')\n",
      "('ADAMS', 'RESEARCH')\n",
      "('FORD', 'RESEARCH')\n",
      "('JONES', 'RESEARCH')\n",
      "('SMITH', 'RESEARCH')\n",
      "('ALLEN', 'SALES')\n",
      "('BLAKE', 'SALES')\n",
      "('MARTIN', 'SALES')\n",
      "('TURNER', 'SALES')\n",
      "('WARD', 'SALES')\n",
      "(None, 'OPERATIONS')\n",
      "\n",
      "Query 23: SELECT E.ENAME, D.DNAME FROM EMP E LEFT JOIN DEPT D ON E.DEPTNO = D.DEPTNO UNION\n",
      " SELECT E.ENAME, D.DNAME FROM DEPT D LEFT JOIN EMP E ON E.DEPTNO = D.DEPTNO\n",
      "(None, 'OPERATIONS')\n",
      "('ADAMS', 'RESEARCH')\n",
      "('ALLEN', 'SALES')\n",
      "('BLAKE', 'SALES')\n",
      "('CLARK', 'ACCOUNTING')\n",
      "('FORD', 'RESEARCH')\n",
      "('JONES', 'RESEARCH')\n",
      "('KING', 'ACCOUNTING')\n",
      "('MARTIN', 'SALES')\n",
      "('MILLER', 'ACCOUNTING')\n",
      "('SMITH', 'RESEARCH')\n",
      "('TURNER', 'SALES')\n",
      "('WARD', 'SALES')\n",
      "\n",
      "Query 24: SELECT E.ENAME, D.LOC FROM EMP E LEFT JOIN DEPT D ON E.DEPTNO = D.DEPTNO WHERE D.LOC = 'NEW YORK'\n",
      "('CLARK', 'NEW YORK')\n",
      "('KING', 'NEW YORK')\n",
      "('MILLER', 'NEW YORK')\n",
      "\n",
      "Query 25: SELECT D.DNAME, COUNT(E.EMPNO) FROM DEPT D LEFT JOIN EMP E ON D.DEPTNO = E.DEPTNO GROUP BY D.DNAME\n",
      "('ACCOUNTING', 3)\n",
      "('OPERATIONS', 0)\n",
      "('RESEARCH', 4)\n",
      "('SALES', 5)\n",
      "\n",
      "Query 26: SELECT ENAME, SAL FROM EMP ORDER BY SAL DESC\n",
      "('KING', 5000.0)\n",
      "('FORD', 3000.0)\n",
      "('JONES', 2975.0)\n",
      "('BLAKE', 2850.0)\n",
      "('CLARK', 2450.0)\n",
      "('ALLEN', 1600.0)\n",
      "('TURNER', 1500.0)\n",
      "('MILLER', 1300.0)\n",
      "('WARD', 1250.0)\n",
      "('MARTIN', 1250.0)\n",
      "('ADAMS', 1100.0)\n",
      "('SMITH', 800.0)\n",
      "\n",
      "Query 27: SELECT ENAME, HIREDATE FROM EMP ORDER BY HIREDATE ASC\n",
      "('SMITH', '1980-12-17')\n",
      "('ALLEN', '1981-02-20')\n",
      "('WARD', '1981-02-22')\n",
      "('JONES', '1981-04-02')\n",
      "('BLAKE', '1981-05-01')\n",
      "('CLARK', '1981-06-09')\n",
      "('TURNER', '1981-06-09')\n",
      "('MARTIN', '1981-09-28')\n",
      "('KING', '1981-11-17')\n",
      "('FORD', '1981-12-03')\n",
      "('MILLER', '1982-01-23')\n",
      "('ADAMS', '1983-01-12')\n",
      "\n",
      "Query 28: SELECT ENAME, JOB FROM EMP ORDER BY JOB, ENAME\n",
      "('FORD', 'ANALYST')\n",
      "('ADAMS', 'CLERK')\n",
      "('MILLER', 'CLERK')\n",
      "('SMITH', 'CLERK')\n",
      "('BLAKE', 'MANAGER')\n",
      "('CLARK', 'MANAGER')\n",
      "('JONES', 'MANAGER')\n",
      "('KING', 'PRESIDENT')\n",
      "('ALLEN', 'SALESMAN')\n",
      "('MARTIN', 'SALESMAN')\n",
      "('TURNER', 'SALESMAN')\n",
      "('WARD', 'SALESMAN')\n",
      "\n",
      "Query 29: SELECT ENAME, DEPTNO FROM EMP ORDER BY DEPTNO, ENAME\n",
      "('CLARK', 10)\n",
      "('KING', 10)\n",
      "('MILLER', 10)\n",
      "('ADAMS', 20)\n",
      "('FORD', 20)\n",
      "('JONES', 20)\n",
      "('SMITH', 20)\n",
      "('ALLEN', 30)\n",
      "('BLAKE', 30)\n",
      "('MARTIN', 30)\n",
      "('TURNER', 30)\n",
      "('WARD', 30)\n",
      "\n",
      "Query 30: SELECT ENAME, SAL FROM EMP ORDER BY SAL DESC LIMIT 5\n",
      "('KING', 5000.0)\n",
      "('FORD', 3000.0)\n",
      "('JONES', 2975.0)\n",
      "('BLAKE', 2850.0)\n",
      "('CLARK', 2450.0)\n"
     ]
    }
   ],
   "source": [
    "# Execute and display results\n",
    "for i, query in enumerate(sql_commands, start=1):\n",
    "    print(f\"\\nQuery {i}: {query}\")\n",
    "    cursor.execute(query)\n",
    "\n",
    "    # Try to fetch results (only works for SELECT or queries that return rows)\n",
    "    try:\n",
    "        rows = cursor.fetchall()\n",
    "        if rows:\n",
    "            for row in rows:\n",
    "                print(row)\n",
    "        else:\n",
    "            print(\"Query executed successfully (no rows returned).\")\n",
    "    except:\n",
    "        print(\"Query executed successfully (no result set).\")\n",
    "\n",
    "\n"
   ]
  },
  {
   "cell_type": "code",
   "execution_count": 26,
   "metadata": {},
   "outputs": [],
   "source": [
    "# Commit changes for queries like INSERT, UPDATE, DELETE\n",
    "conn.commit()\n",
    "conn.close()"
   ]
  },
  {
   "cell_type": "code",
   "execution_count": null,
   "id": "e9f42826",
   "metadata": {},
   "outputs": [],
   "source": []
  },
  {
   "cell_type": "code",
   "execution_count": null,
   "metadata": {},
   "outputs": [],
   "source": []
  },
  {
   "cell_type": "code",
   "execution_count": null,
   "id": "342b6b6a",
   "metadata": {},
   "outputs": [],
   "source": []
  },
  {
   "cell_type": "code",
   "execution_count": null,
   "metadata": {},
   "outputs": [],
   "source": []
  },
  {
   "cell_type": "code",
   "execution_count": null,
   "id": "34c58aa6",
   "metadata": {},
   "outputs": [],
   "source": []
  },
  {
   "cell_type": "code",
   "execution_count": null,
   "metadata": {},
   "outputs": [],
   "source": []
  },
  {
   "cell_type": "code",
   "execution_count": null,
   "id": "51fb177c",
   "metadata": {},
   "outputs": [],
   "source": []
  },
  {
   "cell_type": "code",
   "execution_count": null,
   "metadata": {},
   "outputs": [],
   "source": []
  },
  {
   "cell_type": "code",
   "execution_count": null,
   "id": "2c9b8cb5",
   "metadata": {},
   "outputs": [],
   "source": []
  },
  {
   "cell_type": "code",
   "execution_count": null,
   "id": "e5038ac7",
   "metadata": {},
   "outputs": [],
   "source": []
  },
  {
   "cell_type": "code",
   "execution_count": null,
   "id": "37c5c37c",
   "metadata": {},
   "outputs": [],
   "source": []
  },
  {
   "cell_type": "code",
   "execution_count": null,
   "id": "926ee54f",
   "metadata": {},
   "outputs": [],
   "source": []
  }
 ],
 "metadata": {
  "kernelspec": {
   "display_name": "Python 3",
   "language": "python",
   "name": "python3"
  },
  "language_info": {
   "codemirror_mode": {
    "name": "ipython",
    "version": 3
   },
   "file_extension": ".py",
   "mimetype": "text/x-python",
   "name": "python",
   "nbconvert_exporter": "python",
   "pygments_lexer": "ipython3",
   "version": "3.13.5"
  }
 },
 "nbformat": 4,
 "nbformat_minor": 5
}
