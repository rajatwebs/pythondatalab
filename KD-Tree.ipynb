{
 "cells": [
  {
   "cell_type": "markdown",
   "metadata": {},
   "source": []
  },
  {
   "cell_type": "code",
   "execution_count": 1,
   "metadata": {},
   "outputs": [
    {
     "name": "stdout",
     "output_type": "stream",
     "text": [
      "The predicted class for the point [[51 51]] is: 0\n",
      "Nearest neighbors: [[5 4 2]]\n",
      "Distances to neighbors: [[ 1.41421356 19.41648784 26.87005769]]\n"
     ]
    }
   ],
   "source": [
    "import numpy as np\n",
    "from sklearn.neighbors import KNeighborsClassifier\n",
    "\n",
    "# Dataset: Points and their respective class labels\n",
    "# Data points\n",
    "data_points = np.array([\n",
    "    [51, 78],\n",
    "    [25, 40],\n",
    "    [70, 70],\n",
    "    [10, 30],\n",
    "    [35, 40],\n",
    "    [50, 50],\n",
    "    [55, 1],\n",
    "    [60, 80]\n",
    "])\n",
    "\n",
    "# Example labels for each point (assign arbitrary classes, e.g., 0, 1)\n",
    "labels = np.array([0, 1, 0, 1, 1, 0, 1, 0])  # Adjust class labels as needed\n",
    "\n",
    "# New point to classify\n",
    "new_point = np.array([[51, 51]])\n",
    "\n",
    "# Create the k-NN model (using k=3)\n",
    "knn = KNeighborsClassifier(n_neighbors=3)\n",
    "\n",
    "# Train the model\n",
    "knn.fit(data_points, labels)\n",
    "\n",
    "# Predict the class of the new point\n",
    "predicted_class = knn.predict(new_point)\n",
    "print(f\"The predicted class for the point {new_point} is: {predicted_class[0]}\")\n",
    "\n",
    "# Optional: Find the neighbors of the new point\n",
    "distances, indices = knn.kneighbors(new_point)\n",
    "print(f\"Nearest neighbors: {indices}\")\n",
    "print(f\"Distances to neighbors: {distances}\")"
   ]
  }
 ],
 "metadata": {
  "kernelspec": {
   "display_name": "Python 3",
   "language": "python",
   "name": "python3"
  },
  "language_info": {
   "codemirror_mode": {
    "name": "ipython",
    "version": 3
   },
   "file_extension": ".py",
   "mimetype": "text/x-python",
   "name": "python",
   "nbconvert_exporter": "python",
   "pygments_lexer": "ipython3",
   "version": "3.11.4"
  }
 },
 "nbformat": 4,
 "nbformat_minor": 2
}
