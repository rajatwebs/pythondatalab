{
 "cells": [
  {
   "cell_type": "markdown",
   "metadata": {},
   "source": [
    "#### SQL And SQLite\n",
    "SQL (Structured Query Language) is a standard language for managing and manipulating relational databases. SQLite is a self-contained, serverless, and zero-configuration database engine that is widely used for embedded database systems. In this lesson, we will cover the basics of SQL and SQLite, including creating databases, tables, and performing various SQL operations."
   ]
  },
  {
   "cell_type": "code",
   "execution_count": 1,
   "metadata": {},
   "outputs": [],
   "source": [
    "import sqlite3"
   ]
  },
  {
   "cell_type": "code",
   "execution_count": 2,
   "metadata": {},
   "outputs": [
    {
     "data": {
      "text/plain": [
       "<sqlite3.Connection at 0x20d8b19f970>"
      ]
     },
     "execution_count": 2,
     "metadata": {},
     "output_type": "execute_result"
    }
   ],
   "source": [
    "## Connect to an SQLite database\n",
    "connection=sqlite3.connect('example9.db')\n",
    "connection"
   ]
  },
  {
   "cell_type": "code",
   "execution_count": 4,
   "metadata": {},
   "outputs": [],
   "source": [
    "cursor=connection.cursor()"
   ]
  },
  {
   "cell_type": "code",
   "execution_count": 5,
   "metadata": {},
   "outputs": [],
   "source": [
    "## Create a Table\n",
    "cursor.execute('''\n",
    "Create Table If Not Exists employees(\n",
    "    id Integer Primary Key,\n",
    "    name Text Not Null,\n",
    "    age Integer,\n",
    "    department text\n",
    "    )\n",
    "''')\n",
    "# id name age dept\n",
    "# Syntex\n",
    "# cursor.execute('''\n",
    "#                create table abc(\n",
    "                   \n",
    "                   \n",
    "                   \n",
    "#                )\n",
    "#                ''')\n",
    "\n",
    "## Commit the changes\n",
    "connection.commit()"
   ]
  },
  {
   "cell_type": "code",
   "execution_count": 6,
   "metadata": {},
   "outputs": [
    {
     "data": {
      "text/plain": [
       "<sqlite3.Cursor at 0x20d8b3ec3c0>"
      ]
     },
     "execution_count": 6,
     "metadata": {},
     "output_type": "execute_result"
    }
   ],
   "source": [
    "cursor.execute('''\n",
    "Select * from employees\n",
    "    \n",
    "''')"
   ]
  },
  {
   "cell_type": "code",
   "execution_count": null,
   "metadata": {},
   "outputs": [],
   "source": [
    "## Insert the data in sqlite table\n",
    "cursor.execute('''\n",
    "Insert Into employees(name,age,department)\n",
    "        values('Rajat',46,'Data Scientist')\n",
    "        \n",
    "''')\n",
    "\n",
    "cursor.execute('''\n",
    "INSERT INTO employees (name, age, department)\n",
    "VALUES ('Bobi', 25, 'Engineering')\n",
    "''')\n",
    "\n",
    "cursor.execute('''\n",
    "INSERT INTO employees (name, age, department)\n",
    "VALUES ('Charu', 35, 'Finance')\n",
    "''')\n",
    "\n",
    "## commi the changes\n",
    "connection.commit()"
   ]
  },
  {
   "cell_type": "code",
   "execution_count": 8,
   "metadata": {},
   "outputs": [
    {
     "name": "stdout",
     "output_type": "stream",
     "text": [
      "(1, 'Rajat', 46, 'Data Scientist')\n",
      "(2, 'Bobi', 25, 'Engineering')\n",
      "(3, 'Charu', 35, 'Finance')\n",
      "(4, 'Rajat', 46, 'Data Scientist')\n",
      "(5, 'Bobi', 25, 'Engineering')\n",
      "(6, 'Charu', 35, 'Finance')\n",
      "(7, 'Rajat', 46, 'Data Scientist')\n",
      "(8, 'Rana', 25, 'Engineering')\n",
      "(9, 'Charu', 35, 'Finance')\n",
      "(10, 'Rajat', 46, 'Data Scientist')\n",
      "(11, 'Bobi', 25, 'Engineering')\n",
      "(12, 'Charu', 35, 'Finance')\n",
      "(13, 'Rajat', 46, 'Data Scientist')\n",
      "(14, 'Bobi', 25, 'Engineering')\n",
      "(15, 'Charu', 35, 'Finance')\n"
     ]
    }
   ],
   "source": [
    "## Query the data from the table\n",
    "cursor.execute('Select * from employees')\n",
    "rows=cursor.fetchall()\n",
    "\n",
    "## print the queried data\n",
    "\n",
    "for row in rows:\n",
    "    print(row)"
   ]
  },
  {
   "cell_type": "code",
   "execution_count": 9,
   "metadata": {},
   "outputs": [],
   "source": [
    "## Update the data in the table\n",
    "cursor.execute('''\n",
    "UPDATE employees\n",
    "Set name=\"Rana\"\n",
    "where id=8\n",
    "''')\n",
    "connection.commit()"
   ]
  },
  {
   "cell_type": "code",
   "execution_count": 12,
   "metadata": {},
   "outputs": [
    {
     "name": "stdout",
     "output_type": "stream",
     "text": [
      "(1, 'Rajat')\n",
      "(2, 'Bobi')\n",
      "(3, 'Charu')\n",
      "(4, 'Rajat')\n",
      "(5, 'Bobi')\n",
      "(6, 'Charu')\n",
      "(7, 'Rajat')\n",
      "(8, 'Rana')\n",
      "(9, 'Charu')\n",
      "(10, 'Rajat')\n",
      "(11, 'Bobi')\n",
      "(12, 'Charu')\n",
      "(13, 'Rajat')\n",
      "(14, 'Bobi')\n",
      "(15, 'Charu')\n"
     ]
    }
   ],
   "source": [
    "## Query the data from the table\n",
    "cursor.execute('Select id,name from employees')\n",
    "rows=cursor.fetchall()\n",
    "\n",
    "## print the queried data\n",
    "\n",
    "for row in rows:\n",
    "    print(row)"
   ]
  },
  {
   "cell_type": "code",
   "execution_count": 13,
   "metadata": {},
   "outputs": [],
   "source": [
    "## Delete the data from the table\n",
    "cursor.execute('''\n",
    "Delete from employees\n",
    "               where name ='Bob'\n",
    "''')\n",
    "\n",
    "connection.commit()"
   ]
  },
  {
   "cell_type": "code",
   "execution_count": 14,
   "metadata": {},
   "outputs": [
    {
     "name": "stdout",
     "output_type": "stream",
     "text": [
      "(1, 'Rajat', 46, 'Data Scientist')\n",
      "(2, 'Bobi', 25, 'Engineering')\n",
      "(3, 'Charu', 35, 'Finance')\n",
      "(4, 'Rajat', 46, 'Data Scientist')\n",
      "(5, 'Bobi', 25, 'Engineering')\n",
      "(6, 'Charu', 35, 'Finance')\n",
      "(7, 'Rajat', 46, 'Data Scientist')\n",
      "(8, 'Rana', 25, 'Engineering')\n",
      "(9, 'Charu', 35, 'Finance')\n",
      "(10, 'Rajat', 46, 'Data Scientist')\n",
      "(11, 'Bobi', 25, 'Engineering')\n",
      "(12, 'Charu', 35, 'Finance')\n",
      "(13, 'Rajat', 46, 'Data Scientist')\n",
      "(14, 'Bobi', 25, 'Engineering')\n",
      "(15, 'Charu', 35, 'Finance')\n"
     ]
    }
   ],
   "source": [
    "## Query the data from the table\n",
    "cursor.execute('Select * from employees')\n",
    "rows=cursor.fetchall()\n",
    "\n",
    "## print the queried data\n",
    "\n",
    "for row in rows:\n",
    "    print(row)"
   ]
  },
  {
   "cell_type": "code",
   "execution_count": 15,
   "metadata": {},
   "outputs": [],
   "source": [
    "## Working Wwith Sales Data\n",
    "# Connect to an SQLite database\n",
    "connection = sqlite3.connect('sales_data.db')\n",
    "cursor = connection.cursor()\n",
    "\n",
    "# Create a table for sales data\n",
    "cursor.execute('''\n",
    "CREATE TABLE IF NOT EXISTS sales (\n",
    "    id INTEGER PRIMARY KEY,\n",
    "    date TEXT NOT NULL,\n",
    "    product TEXT NOT NULL,\n",
    "    sales INTEGER,\n",
    "    region TEXT\n",
    ")\n",
    "''')\n",
    "\n",
    "# Insert data into the sales table\n",
    "sales_data = [\n",
    "    ('2023-01-01', 'Product1', 100, 'North'),\n",
    "    ('2023-01-02', 'Product2', 200, 'South'),\n",
    "    ('2023-01-03', 'Product1', 150, 'East'),\n",
    "    ('2023-01-04', 'Product3', 250, 'West'),\n",
    "    ('2023-01-05', 'Product2', 300, 'North')\n",
    "]\n",
    "\n",
    "cursor.executemany('''\n",
    "Insert into sales(date,product,sales,region)\n",
    "                   values(?,?,?,?)\n",
    "''',sales_data)\n",
    "\n",
    "connection.commit()"
   ]
  },
  {
   "cell_type": "code",
   "execution_count": 22,
   "metadata": {},
   "outputs": [
    {
     "name": "stdout",
     "output_type": "stream",
     "text": [
      "(1, '2023-01-01', 'Product1', 100, 'North')\n",
      "(2, '2023-01-02', 'Product2', 200, 'South')\n",
      "(3, '2023-01-03', 'Product1', 150, 'East')\n",
      "(4, '2023-01-04', 'Product3', 250, 'West')\n",
      "(5, '2023-01-05', 'Product2', 300, 'North')\n",
      "(6, '2023-01-01', 'Product1', 100, 'North')\n",
      "(7, '2023-01-02', 'Product2', 200, 'South')\n",
      "(8, '2023-01-03', 'Product1', 150, 'East')\n",
      "(9, '2023-01-04', 'Product3', 250, 'West')\n",
      "(10, '2023-01-05', 'Product2', 300, 'North')\n",
      "(11, '2023-01-01', 'Product1', 100, 'North')\n",
      "(12, '2023-01-02', 'Product2', 200, 'South')\n",
      "(13, '2023-01-03', 'Product1', 150, 'East')\n",
      "(14, '2023-01-04', 'Product3', 250, 'West')\n",
      "(15, '2023-01-05', 'Product2', 300, 'North')\n"
     ]
    }
   ],
   "source": [
    "# Query data from the sales table\n",
    "cursor.execute('SELECT * FROM sales')\n",
    "rows = cursor.fetchall()\n",
    "\n",
    "# Print the queried data\n",
    "for row in rows:\n",
    "    print(row)"
   ]
  },
  {
   "cell_type": "code",
   "execution_count": 16,
   "metadata": {},
   "outputs": [],
   "source": [
    "## close the connection\n",
    "connection.close()"
   ]
  },
  {
   "cell_type": "code",
   "execution_count": 23,
   "metadata": {},
   "outputs": [
    {
     "name": "stdout",
     "output_type": "stream",
     "text": [
      "(1, '2023-01-01', 'Product1', 100, 'North')\n",
      "(2, '2023-01-02', 'Product2', 200, 'South')\n",
      "(3, '2023-01-03', 'Product1', 150, 'East')\n",
      "(4, '2023-01-04', 'Product3', 250, 'West')\n",
      "(5, '2023-01-05', 'Product2', 300, 'North')\n",
      "(6, '2023-01-01', 'Product1', 100, 'North')\n",
      "(7, '2023-01-02', 'Product2', 200, 'South')\n",
      "(8, '2023-01-03', 'Product1', 150, 'East')\n",
      "(9, '2023-01-04', 'Product3', 250, 'West')\n",
      "(10, '2023-01-05', 'Product2', 300, 'North')\n",
      "(11, '2023-01-01', 'Product1', 100, 'North')\n",
      "(12, '2023-01-02', 'Product2', 200, 'South')\n",
      "(13, '2023-01-03', 'Product1', 150, 'East')\n",
      "(14, '2023-01-04', 'Product3', 250, 'West')\n",
      "(15, '2023-01-05', 'Product2', 300, 'North')\n"
     ]
    }
   ],
   "source": [
    "# Query data from the sales table\n",
    "cursor.execute('SELECT * FROM sales')\n",
    "rows = cursor.fetchall()\n",
    "\n",
    "# Print the queried data\n",
    "for row in rows:\n",
    "    print(row)"
   ]
  },
  {
   "cell_type": "code",
   "execution_count": null,
   "metadata": {},
   "outputs": [
    {
     "data": {
      "text/html": [
       "<div>\n",
       "<style scoped>\n",
       "    .dataframe tbody tr th:only-of-type {\n",
       "        vertical-align: middle;\n",
       "    }\n",
       "\n",
       "    .dataframe tbody tr th {\n",
       "        vertical-align: top;\n",
       "    }\n",
       "\n",
       "    .dataframe thead th {\n",
       "        text-align: right;\n",
       "    }\n",
       "</style>\n",
       "<table border=\"1\" class=\"dataframe\">\n",
       "  <thead>\n",
       "    <tr style=\"text-align: right;\">\n",
       "      <th></th>\n",
       "      <th>id</th>\n",
       "      <th>sales</th>\n",
       "    </tr>\n",
       "  </thead>\n",
       "  <tbody>\n",
       "    <tr>\n",
       "      <th>count</th>\n",
       "      <td>15.000000</td>\n",
       "      <td>15.000000</td>\n",
       "    </tr>\n",
       "    <tr>\n",
       "      <th>mean</th>\n",
       "      <td>8.000000</td>\n",
       "      <td>200.000000</td>\n",
       "    </tr>\n",
       "    <tr>\n",
       "      <th>std</th>\n",
       "      <td>4.472136</td>\n",
       "      <td>73.192505</td>\n",
       "    </tr>\n",
       "    <tr>\n",
       "      <th>min</th>\n",
       "      <td>1.000000</td>\n",
       "      <td>100.000000</td>\n",
       "    </tr>\n",
       "    <tr>\n",
       "      <th>25%</th>\n",
       "      <td>4.500000</td>\n",
       "      <td>150.000000</td>\n",
       "    </tr>\n",
       "    <tr>\n",
       "      <th>50%</th>\n",
       "      <td>8.000000</td>\n",
       "      <td>200.000000</td>\n",
       "    </tr>\n",
       "    <tr>\n",
       "      <th>75%</th>\n",
       "      <td>11.500000</td>\n",
       "      <td>250.000000</td>\n",
       "    </tr>\n",
       "    <tr>\n",
       "      <th>max</th>\n",
       "      <td>15.000000</td>\n",
       "      <td>300.000000</td>\n",
       "    </tr>\n",
       "  </tbody>\n",
       "</table>\n",
       "</div>"
      ],
      "text/plain": [
       "              id       sales\n",
       "count  15.000000   15.000000\n",
       "mean    8.000000  200.000000\n",
       "std     4.472136   73.192505\n",
       "min     1.000000  100.000000\n",
       "25%     4.500000  150.000000\n",
       "50%     8.000000  200.000000\n",
       "75%    11.500000  250.000000\n",
       "max    15.000000  300.000000"
      ]
     },
     "execution_count": 13,
     "metadata": {},
     "output_type": "execute_result"
    }
   ],
   "source": [
    "import sqlite3 # convert to \n",
    "import pandas as pd\n",
    "db = sqlite3.connect('sales_data.db')\n",
    "data = pd.read_sql_query(\"Select *from sales\",db)\n",
    "df = pd.DataFrame(data) #SQL JOIN WITH PANDAS\n",
    "# df\n",
    "df.describe()\n"
   ]
  },
  {
   "cell_type": "code",
   "execution_count": null,
   "metadata": {},
   "outputs": [],
   "source": []
  },
  {
   "cell_type": "code",
   "execution_count": null,
   "metadata": {},
   "outputs": [],
   "source": []
  },
  {
   "cell_type": "code",
   "execution_count": null,
   "metadata": {},
   "outputs": [],
   "source": []
  },
  {
   "cell_type": "code",
   "execution_count": null,
   "metadata": {},
   "outputs": [],
   "source": []
  },
  {
   "cell_type": "code",
   "execution_count": null,
   "metadata": {},
   "outputs": [],
   "source": []
  },
  {
   "cell_type": "code",
   "execution_count": null,
   "metadata": {},
   "outputs": [],
   "source": []
  },
  {
   "cell_type": "code",
   "execution_count": null,
   "metadata": {},
   "outputs": [],
   "source": []
  }
 ],
 "metadata": {
  "kernelspec": {
   "display_name": "Python 3",
   "language": "python",
   "name": "python3"
  },
  "language_info": {
   "codemirror_mode": {
    "name": "ipython",
    "version": 3
   },
   "file_extension": ".py",
   "mimetype": "text/x-python",
   "name": "python",
   "nbconvert_exporter": "python",
   "pygments_lexer": "ipython3",
   "version": "3.13.5"
  }
 },
 "nbformat": 4,
 "nbformat_minor": 2
}
