{
 "cells": [
  {
   "cell_type": "markdown",
   "id": "53b2180b",
   "metadata": {},
   "source": [
    "## Bayes Naive's Algorithm"
   ]
  },
  {
   "cell_type": "code",
   "execution_count": 12,
   "id": "1aa3848c",
   "metadata": {},
   "outputs": [
    {
     "name": "stdout",
     "output_type": "stream",
     "text": [
      "Predicted Location: Rural\n",
      "Predicted Size (sq ft): 2500\n",
      "Predicted Number of Rooms: 4\n"
     ]
    },
    {
     "name": "stderr",
     "output_type": "stream",
     "text": [
      "c:\\Python311\\Lib\\site-packages\\sklearn\\utils\\validation.py:2739: UserWarning: X does not have valid feature names, but GaussianNB was fitted with feature names\n",
      "  warnings.warn(\n",
      "c:\\Python311\\Lib\\site-packages\\sklearn\\utils\\validation.py:2739: UserWarning: X does not have valid feature names, but GaussianNB was fitted with feature names\n",
      "  warnings.warn(\n",
      "c:\\Python311\\Lib\\site-packages\\sklearn\\utils\\validation.py:2739: UserWarning: X does not have valid feature names, but GaussianNB was fitted with feature names\n",
      "  warnings.warn(\n"
     ]
    }
   ],
   "source": [
    "import numpy as np\n",
    "import pandas as pd\n",
    "from sklearn.naive_bayes import GaussianNB\n",
    "from sklearn.preprocessing import LabelEncoder\n",
    "\n",
    "# Sample dataset: Size, No of Rooms, Location, Price\n",
    "data = {\n",
    "    \"Size (sq ft)\": [1000, 2000, 1500, 2500, 1800, 1200],\n",
    "    \"No of Rooms\": [2, 3, 3, 4, 3, 2],\n",
    "    \"Location\": [\"Urban\", \"Suburban\", \"Urban\", \"Rural\", \"Suburban\", \"Urban\"],\n",
    "    \"Price\": [\"High\", \"Medium\", \"Medium\", \"Low\", \"Medium\", \"High\"]\n",
    "}\n",
    "\n",
    "# Create DataFrame\n",
    "df = pd.DataFrame(data)\n",
    "\n",
    "# Encode categorical variables\n",
    "label_encoders = {}\n",
    "for column in [\"Location\", \"Price\"]:\n",
    "    label_encoders[column] = LabelEncoder()\n",
    "    df[column] = label_encoders[column].fit_transform(df[column])\n",
    "\n",
    "# Train separate models for predicting Location, Size, and No of Rooms\n",
    "models = {}\n",
    "targets = [\"Location\", \"Size (sq ft)\", \"No of Rooms\"]\n",
    "\n",
    "for target in targets:\n",
    "    X = df[[\"Price\"]]  # Using Price as the independent feature\n",
    "    y = df[target]\n",
    "    model = GaussianNB()\n",
    "    model.fit(X, y)\n",
    "    models[target] = model\n",
    "\n",
    "# Example: Predict Location, Size, and Number of Rooms for a house with \"Medium\" price\n",
    "input_price = np.array([[label_encoders[\"Price\"].transform([\"Low\"])[0]]])\n",
    "\n",
    "predicted_location = models[\"Location\"].predict(input_price)[0]\n",
    "predicted_size = models[\"Size (sq ft)\"].predict(input_price)[0]\n",
    "predicted_rooms = models[\"No of Rooms\"].predict(input_price)[0]\n",
    "\n",
    "# Decode categorical result\n",
    "predicted_location_label = label_encoders[\"Location\"].inverse_transform([predicted_location])[0]\n",
    "\n",
    "print(f\"Predicted Location: {predicted_location_label}\")\n",
    "print(f\"Predicted Size (sq ft): {predicted_size}\")\n",
    "print(f\"Predicted Number of Rooms: {predicted_rooms}\")"
   ]
  },
  {
   "cell_type": "markdown",
   "id": "9412df39",
   "metadata": {},
   "source": [
    "Calcuate Price and Brand based on Processor, Ram and Storage of a Labtop using Bayes Naive's algorithm"
   ]
  },
  {
   "cell_type": "code",
   "execution_count": 20,
   "id": "0f93ffe9",
   "metadata": {},
   "outputs": [
    {
     "name": "stdout",
     "output_type": "stream",
     "text": [
      "Predicted Laptop Price Category: High\n",
      "Predicted Processor Brand: Apple\n"
     ]
    },
    {
     "name": "stderr",
     "output_type": "stream",
     "text": [
      "c:\\Python311\\Lib\\site-packages\\sklearn\\utils\\validation.py:2739: UserWarning: X does not have valid feature names, but GaussianNB was fitted with feature names\n",
      "  warnings.warn(\n",
      "c:\\Python311\\Lib\\site-packages\\sklearn\\utils\\validation.py:2739: UserWarning: X does not have valid feature names, but GaussianNB was fitted with feature names\n",
      "  warnings.warn(\n"
     ]
    }
   ],
   "source": [
    "import numpy as np\n",
    "import pandas as pd\n",
    "from sklearn.naive_bayes import GaussianNB\n",
    "from sklearn.preprocessing import LabelEncoder\n",
    "\n",
    "# Sample dataset with RAM, Storage, Processor Speed, Brand, and Price Category\n",
    "data = {\n",
    "    \"RAM (GB)\": [4, 8, 16, 32, 8, 16, 4, 32],\n",
    "    \"Storage (GB)\": [256, 512, 1024, 2048, 512, 1024, 256, 2048],\n",
    "    \"Processor Speed (GHz)\": [2.0, 2.5, 3.0, 3.5, 2.4, 3.2, 2.0, 3.6],\n",
    "    \"Processor Brand\": [\"Intel\", \"AMD\", \"Intel\", \"Apple\", \"AMD\", \"Intel\", \"Intel\", \"Apple\"],\n",
    "    \"Price Category\": [\"Low\", \"Medium\", \"High\", \"High\", \"Medium\", \"High\", \"Low\", \"High\"]\n",
    "}\n",
    "\n",
    "# Convert data into a DataFrame\n",
    "df = pd.DataFrame(data)\n",
    "\n",
    "# Encode categorical variables (Processor Brand and Price Category)\n",
    "label_encoders = {}\n",
    "for column in [\"Processor Brand\", \"Price Category\"]:\n",
    "    label_encoders[column] = LabelEncoder()\n",
    "    df[column] = label_encoders[column].fit_transform(df[column])\n",
    "\n",
    "# Split data into features (X)\n",
    "X = df[[\"RAM (GB)\", \"Storage (GB)\", \"Processor Speed (GHz)\"]]\n",
    "\n",
    "# Train Naïve Bayes models for predicting Price and Processor Brand\n",
    "models = {}\n",
    "targets = [\"Price Category\", \"Processor Brand\"]\n",
    "\n",
    "for target in targets:\n",
    "    y = df[target]\n",
    "    model = GaussianNB()\n",
    "    model.fit(X, y)\n",
    "    models[target] = model\n",
    "\n",
    "# Example: Predict Price Category and Processor Brand for a laptop with given specs\n",
    "input_laptop = np.array([[32,2048,3.6]])\n",
    "\n",
    "predicted_price = models[\"Price Category\"].predict(input_laptop)[0]\n",
    "predicted_processor = models[\"Processor Brand\"].predict(input_laptop)[0]\n",
    "\n",
    "# Decode the results back to original labels\n",
    "predicted_price_label = label_encoders[\"Price Category\"].inverse_transform([predicted_price])[0]\n",
    "predicted_processor_label = label_encoders[\"Processor Brand\"].inverse_transform([predicted_processor])[0]\n",
    "\n",
    "print(f\"Predicted Laptop Price Category: {predicted_price_label}\")\n",
    "print(f\"Predicted Processor Brand: {predicted_processor_label}\")"
   ]
  }
 ],
 "metadata": {
  "kernelspec": {
   "display_name": "Python 3",
   "language": "python",
   "name": "python3"
  },
  "language_info": {
   "codemirror_mode": {
    "name": "ipython",
    "version": 3
   },
   "file_extension": ".py",
   "mimetype": "text/x-python",
   "name": "python",
   "nbconvert_exporter": "python",
   "pygments_lexer": "ipython3",
   "version": "3.11.3"
  }
 },
 "nbformat": 4,
 "nbformat_minor": 5
}
