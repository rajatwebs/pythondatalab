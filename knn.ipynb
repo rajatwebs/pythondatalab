{
 "cells": [
  {
   "cell_type": "markdown",
   "metadata": {},
   "source": [
    "# KNN"
   ]
  },
  {
   "cell_type": "markdown",
   "metadata": {},
   "source": [
    "K-Nearest Neighbors (KNN) is a simple yet powerful machine learning algorithm used for classification and regression tasks. It operates on the principle of similarity—objects with similar characteristics tend to belong to the same group.\n",
    "Here’s how it works:\n"
   ]
  },
  {
   "cell_type": "markdown",
   "metadata": {},
   "source": [
    "Create KNN algorithm to find the student is pass or fail \n",
    "where K neighbors K=3. The datasets as follows:-\n",
    "slno: 1,2,3,4,5\n",
    "Maths: 4,6,7,5,8\n",
    "CS: 3,7,8,5,8\n",
    "\n",
    "the x student got Math = 6 and CS=8 -- find x student is pass or faild\n",
    "using KNN"
   ]
  },
  {
   "cell_type": "code",
   "execution_count": 1,
   "metadata": {},
   "outputs": [
    {
     "name": "stdout",
     "output_type": "stream",
     "text": [
      "Requirement already satisfied: pandas in c:\\python311\\lib\\site-packages (2.2.2)Note: you may need to restart the kernel to use updated packages.\n"
     ]
    },
    {
     "name": "stderr",
     "output_type": "stream",
     "text": [
      "\n",
      "[notice] A new release of pip is available: 23.1.2 -> 25.0.1\n",
      "[notice] To update, run: python.exe -m pip install --upgrade pip\n"
     ]
    },
    {
     "name": "stdout",
     "output_type": "stream",
     "text": [
      "\n",
      "Requirement already satisfied: numpy in c:\\python311\\lib\\site-packages (1.25.1)\n",
      "Requirement already satisfied: python-dateutil>=2.8.2 in c:\\python311\\lib\\site-packages (from pandas) (2.8.2)\n",
      "Requirement already satisfied: pytz>=2020.1 in c:\\python311\\lib\\site-packages (from pandas) (2024.2)\n",
      "Requirement already satisfied: tzdata>=2022.7 in c:\\python311\\lib\\site-packages (from pandas) (2024.1)\n",
      "Requirement already satisfied: six>=1.5 in c:\\python311\\lib\\site-packages (from python-dateutil>=2.8.2->pandas) (1.16.0)\n"
     ]
    }
   ],
   "source": [
    "pip install pandas numpy"
   ]
  },
  {
   "cell_type": "code",
   "execution_count": 3,
   "metadata": {},
   "outputs": [
    {
     "name": "stdout",
     "output_type": "stream",
     "text": [
      "   slno  Maths  CS Label\n",
      "0     1      4   3  Fail\n",
      "1     2      6   7  Pass\n",
      "2     3      7   8  Pass\n",
      "3     4      5   5  Fail\n",
      "4     5      8   8  Pass\n"
     ]
    }
   ],
   "source": [
    "#Prepare the Dataset\n",
    "import pandas as pd\n",
    "data = {\n",
    "    \"slno\": [1, 2, 3, 4, 5],\n",
    "    \"Maths\": [4, 6, 7, 5, 8],\n",
    "    \"CS\": [3, 7, 8, 5, 8],\n",
    "    \"Label\": [\"Fail\", \"Pass\", \"Pass\", \"Fail\", \"Pass\"]  # Assuming Pass/Fail labels\n",
    "}\n",
    "\n",
    "# Create a Pandas DataFrame\n",
    "df = pd.DataFrame(data)\n",
    "print(df)\n"
   ]
  },
  {
   "cell_type": "code",
   "execution_count": 4,
   "metadata": {},
   "outputs": [
    {
     "name": "stdout",
     "output_type": "stream",
     "text": [
      "   slno  Maths   CS Label\n",
      "0     1   0.00  0.0  Fail\n",
      "1     2   0.50  0.8  Pass\n",
      "2     3   0.75  1.0  Pass\n",
      "3     4   0.25  0.4  Fail\n",
      "4     5   1.00  1.0  Pass\n"
     ]
    }
   ],
   "source": [
    "# Normalize the Data\n",
    "from sklearn.preprocessing import MinMaxScaler\n",
    "\n",
    "# Normalize the features\n",
    "scaler = MinMaxScaler()\n",
    "df[['Maths', 'CS']] = scaler.fit_transform(df[['Maths', 'CS']])\n",
    "print(df)"
   ]
  },
  {
   "cell_type": "code",
   "execution_count": 6,
   "metadata": {},
   "outputs": [
    {
     "name": "stdout",
     "output_type": "stream",
     "text": [
      "[[0.5 1. ]]\n"
     ]
    },
    {
     "name": "stderr",
     "output_type": "stream",
     "text": [
      "c:\\Python311\\Lib\\site-packages\\sklearn\\utils\\validation.py:2739: UserWarning: X does not have valid feature names, but MinMaxScaler was fitted with feature names\n",
      "  warnings.warn(\n"
     ]
    }
   ],
   "source": [
    "#Define the Target Student (x)\n",
    "import numpy as np\n",
    "x_student = np.array([[6, 8]])\n",
    "x_student_normalized = scaler.transform(x_student)\n",
    "print(x_student_normalized)  # Normalized scores"
   ]
  },
  {
   "cell_type": "code",
   "execution_count": 7,
   "metadata": {},
   "outputs": [
    {
     "name": "stdout",
     "output_type": "stream",
     "text": [
      "   slno  Maths   CS Label  Distance\n",
      "1     2   0.50  0.8  Pass  0.200000\n",
      "2     3   0.75  1.0  Pass  0.250000\n",
      "4     5   1.00  1.0  Pass  0.500000\n",
      "3     4   0.25  0.4  Fail  0.650000\n",
      "0     1   0.00  0.0  Fail  1.118034\n",
      "   slno  Maths   CS Label  Distance\n",
      "1     2   0.50  0.8  Pass      0.20\n",
      "2     3   0.75  1.0  Pass      0.25\n",
      "4     5   1.00  1.0  Pass      0.50\n",
      "The student x is predicted to be: Pass\n"
     ]
    }
   ],
   "source": [
    "#Implement the KNN Algorithm\n",
    "#Compute distances, sort neighbors, and classify:\n",
    "# Compute distances\n",
    "df['Distance'] = np.sqrt((df['Maths'] - x_student_normalized[0][0])**2 + \n",
    "                         (df['CS'] - x_student_normalized[0][1])**2)\n",
    "\n",
    "# Sort neighbors by distance\n",
    "df_sorted = df.sort_values('Distance')\n",
    "print(df_sorted)\n",
    "\n",
    "# Select the top K neighbors (K=3)\n",
    "k_neighbors = df_sorted.head(3)\n",
    "print(k_neighbors)\n",
    "\n",
    "# Majority vote for classification\n",
    "result = k_neighbors['Label'].value_counts().idxmax()\n",
    "print(f\"The student x is predicted to be: {result}\")"
   ]
  },
  {
   "cell_type": "markdown",
   "metadata": {},
   "source": [
    "K-Nearest Neighbors (KNN) is a simple yet powerful machine learning algorithm used for classification and regression tasks. It operates on the principle of similarity—objects with similar characteristics tend to belong to the same group.\n",
    "\n",
    "How it works:\n",
    "1. Instance-based Learning: KNN does not build a model beforehand; it memorizes the data and makes predictions based on stored examples.\n",
    "2. Distance Calculation: When trying to classify a new point, KNN calculates the distance between this point and every other point in the dataset. Common distance metrics include Euclidean distance and Manhattan distance.\n",
    "3. Selecting Neighbors: It identifies the ‘K’ closest points (neighbors) to the new point.\n",
    "4. Voting/Decision: The algorithm looks at the labels of these K neighbors and determines the majority (for classification) or takes their average (for regression).\n",
    "\n",
    "In this example the algorithm analyzed the 3 closest neighbors to predict whether the student x should be classified as \"Pass\" or \"Fail\" based on their scores in Maths and CS. \n",
    "\n"
   ]
  }
 ],
 "metadata": {
  "kernelspec": {
   "display_name": "Python 3",
   "language": "python",
   "name": "python3"
  },
  "language_info": {
   "codemirror_mode": {
    "name": "ipython",
    "version": 3
   },
   "file_extension": ".py",
   "mimetype": "text/x-python",
   "name": "python",
   "nbconvert_exporter": "python",
   "pygments_lexer": "ipython3",
   "version": "3.11.4"
  }
 },
 "nbformat": 4,
 "nbformat_minor": 2
}
