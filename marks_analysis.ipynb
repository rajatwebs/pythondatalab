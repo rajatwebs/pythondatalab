{
 "cells": [
  {
   "cell_type": "markdown",
   "id": "fbe20fcd",
   "metadata": {},
   "source": [
    "## Step 1: Import libraries"
   ]
  },
  {
   "cell_type": "code",
   "execution_count": 11,
   "id": "67d62588",
   "metadata": {},
   "outputs": [],
   "source": [
    "import pandas as pd"
   ]
  },
  {
   "cell_type": "markdown",
   "id": "8be1311e",
   "metadata": {},
   "source": [
    "## Step 2: Load the Dataset"
   ]
  },
  {
   "cell_type": "code",
   "execution_count": 12,
   "id": "cd9b728b",
   "metadata": {},
   "outputs": [
    {
     "name": "stdout",
     "output_type": "stream",
     "text": [
      "      name  marks1  marks2  marks3\n",
      "0    Alice      85      90      88\n",
      "1      Bob      78      83      80\n",
      "2  Charlie      92      87      95\n",
      "3    Diana      88      91      84\n",
      "4      Eve      80      82      89\n"
     ]
    }
   ],
   "source": [
    "data = {\n",
    "    'name': ['Alice', 'Bob', 'Charlie', 'Diana', 'Eve'],\n",
    "    'marks1': [85, 78, 92, 88, 80],\n",
    "    'marks2': [90, 83, 87, 91, 82],\n",
    "    'marks3': [88, 80, 95, 84, 89]\n",
    "}\n",
    "df = pd.DataFrame(data)\n",
    "print(df)"
   ]
  },
  {
   "cell_type": "markdown",
   "id": "047af8ac",
   "metadata": {},
   "source": [
    "# Question 1: What is the average score for each subject?\n"
   ]
  },
  {
   "cell_type": "code",
   "execution_count": 13,
   "id": "945126c8",
   "metadata": {},
   "outputs": [
    {
     "name": "stdout",
     "output_type": "stream",
     "text": [
      "Average scores for each subject:\n",
      "marks1    84.6\n",
      "marks2    86.6\n",
      "marks3    87.2\n",
      "dtype: float64\n"
     ]
    }
   ],
   "source": [
    "average_scores = df[['marks1', 'marks2', 'marks3']].mean()\n",
    "print(\"Average scores for each subject:\")\n",
    "print(average_scores)"
   ]
  },
  {
   "cell_type": "markdown",
   "id": "40755f78",
   "metadata": {},
   "source": [
    "# Question 2: What is the total marks obtained by each student?\n"
   ]
  },
  {
   "cell_type": "code",
   "execution_count": null,
   "id": "e42f1f2a",
   "metadata": {},
   "outputs": [
    {
     "name": "stdout",
     "output_type": "stream",
     "text": [
      "      name  marks1  marks2  marks3  total_marks\n",
      "0    Alice      85      90      88          263\n",
      "1      Bob      78      83      80          241\n",
      "2  Charlie      92      87      95          274\n",
      "3    Diana      88      91      84          263\n",
      "4      Eve      80      82      89          251\n"
     ]
    }
   ],
   "source": [
    "df['total_marks'] = df[['marks1', 'marks2', 'marks3']].sum(axis=1)\n",
    "print(df[['name', 'marks1', 'marks2', 'marks3', 'total_marks']])\n"
   ]
  },
  {
   "cell_type": "markdown",
   "id": "d47b3d4f",
   "metadata": {},
   "source": [
    "# Question 3: Who scored the highest in marks1?\n"
   ]
  },
  {
   "cell_type": "code",
   "execution_count": null,
   "id": "c0958516",
   "metadata": {},
   "outputs": [
    {
     "name": "stdout",
     "output_type": "stream",
     "text": [
      "Student(s) with the highest marks in marks1:\n",
      "      name  marks1\n",
      "2  Charlie      92\n"
     ]
    }
   ],
   "source": [
    "max_marks1 = df['marks1'].max()\n",
    "top_marks1 = df[df['marks1'] == max_marks1]\n",
    "print(\"Student(s) with the highest marks in marks1:\")\n",
    "print(top_marks1[['name', 'marks1']])\n"
   ]
  },
  {
   "cell_type": "markdown",
   "id": "52f38a41",
   "metadata": {},
   "source": [
    "# Question 4: Who scored the lowest in marks2?\n"
   ]
  },
  {
   "cell_type": "code",
   "execution_count": null,
   "id": "63de10ca",
   "metadata": {},
   "outputs": [
    {
     "name": "stdout",
     "output_type": "stream",
     "text": [
      "Student(s) with the lowest marks in marks2:\n",
      "  name  marks2\n",
      "4  Eve      82\n"
     ]
    }
   ],
   "source": [
    "min_marks2 = df['marks2'].min()\n",
    "lowest_marks2 = df[df['marks2'] == min_marks2]\n",
    "print(\"Student(s) with the lowest marks in marks2:\")\n",
    "print(lowest_marks2[['name', 'marks2']])\n"
   ]
  },
  {
   "cell_type": "markdown",
   "id": "bc961f31",
   "metadata": {},
   "source": [
    "# Question 5: What is the overall average marks across all subjects?\n"
   ]
  },
  {
   "cell_type": "code",
   "execution_count": 7,
   "id": "0cecd723",
   "metadata": {},
   "outputs": [
    {
     "name": "stdout",
     "output_type": "stream",
     "text": [
      "Overall average marks across all subjects: 86.13333333333334\n"
     ]
    }
   ],
   "source": [
    "overall_average = df[['marks1', 'marks2', 'marks3']].values.mean()\n",
    "print(\"Overall average marks across all subjects:\", overall_average)\n"
   ]
  },
  {
   "cell_type": "markdown",
   "id": "250b8c4e",
   "metadata": {},
   "source": [
    "# Question 6: How many students scored above 85 in marks3?\n"
   ]
  },
  {
   "cell_type": "code",
   "execution_count": null,
   "id": "63ed7d81",
   "metadata": {},
   "outputs": [
    {
     "name": "stdout",
     "output_type": "stream",
     "text": [
      "Number of students who scored above 85 in marks3: 3\n"
     ]
    }
   ],
   "source": [
    "above_85_marks3 = df[df['marks3'] > 85]\n",
    "count_above_85 = above_85_marks3.shape[0]\n",
    "print(\"Number of students who scored above 85 in marks3:\", count_above_85)\n"
   ]
  },
  {
   "cell_type": "markdown",
   "id": "adcd76e3",
   "metadata": {},
   "source": [
    "# Question 7: What is the median score for each subject?\n"
   ]
  },
  {
   "cell_type": "code",
   "execution_count": 9,
   "id": "229c7846",
   "metadata": {},
   "outputs": [
    {
     "name": "stdout",
     "output_type": "stream",
     "text": [
      "Median scores for each subject:\n",
      "marks1    85.0\n",
      "marks2    87.0\n",
      "marks3    88.0\n",
      "dtype: float64\n"
     ]
    }
   ],
   "source": [
    "median_scores = df[['marks1', 'marks2', 'marks3']].median()\n",
    "print(\"Median scores for each subject:\")\n",
    "print(median_scores)\n"
   ]
  },
  {
   "cell_type": "markdown",
   "id": "ad086ba2",
   "metadata": {},
   "source": [
    "# Question 8: How many students have an overall score above 250?\n"
   ]
  },
  {
   "cell_type": "code",
   "execution_count": 10,
   "id": "de4e7b3b",
   "metadata": {},
   "outputs": [
    {
     "name": "stdout",
     "output_type": "stream",
     "text": [
      "Number of students with overall score above 250: 4\n"
     ]
    }
   ],
   "source": [
    "above_250_total = df[df['total_marks'] > 250]\n",
    "count_above_250 = above_250_total.shape[0]\n",
    "print(\"Number of students with overall score above 250:\", count_above_250)\n"
   ]
  },
  {
   "cell_type": "markdown",
   "id": "11951360",
   "metadata": {},
   "source": [
    "# Question 9: What is the standard deviation of marks for each subject?\n"
   ]
  },
  {
   "cell_type": "code",
   "execution_count": 11,
   "id": "3fd20a5a",
   "metadata": {},
   "outputs": [
    {
     "name": "stdout",
     "output_type": "stream",
     "text": [
      "Standard deviation of marks for each subject:\n",
      "marks1    5.727128\n",
      "marks2    4.037326\n",
      "marks3    5.630275\n",
      "dtype: float64\n"
     ]
    }
   ],
   "source": [
    "std_dev_scores = df[['marks1', 'marks2', 'marks3']].std()\n",
    "print(\"Standard deviation of marks for each subject:\")\n",
    "print(std_dev_scores)\n"
   ]
  },
  {
   "cell_type": "markdown",
   "id": "32dee71d",
   "metadata": {},
   "source": [
    "# Question 10: Sort students based on their total marks in descending order.\n"
   ]
  },
  {
   "cell_type": "code",
   "execution_count": 12,
   "id": "4922de1a",
   "metadata": {},
   "outputs": [
    {
     "name": "stdout",
     "output_type": "stream",
     "text": [
      "      name  total_marks\n",
      "2  Charlie          274\n",
      "0    Alice          263\n",
      "3    Diana          263\n",
      "4      Eve          251\n",
      "1      Bob          241\n"
     ]
    }
   ],
   "source": [
    "sorted_df = df.sort_values(by='total_marks', ascending=False)\n",
    "print(sorted_df[['name', 'total_marks']])\n"
   ]
  },
  {
   "cell_type": "markdown",
   "id": "9bd18287",
   "metadata": {},
   "source": [
    "# Question 11: Find students who scored less than 80 in any subject.\n"
   ]
  },
  {
   "cell_type": "code",
   "execution_count": null,
   "id": "bcc38650",
   "metadata": {},
   "outputs": [
    {
     "name": "stdout",
     "output_type": "stream",
     "text": [
      "Students who scored less than 80 in any subject:\n",
      "  name  marks1  marks2  marks3\n",
      "1  Bob      78      83      80\n"
     ]
    }
   ],
   "source": [
    "students_below_80 = df[(df['marks1'] < 80) | (df['marks2'] < 80) | (df['marks3'] < 80)]\n",
    "print(\"Students who scored less than 80 in any subject:\")\n",
    "print(students_below_80[['name', 'marks1', 'marks2', 'marks3']])\n"
   ]
  },
  {
   "cell_type": "markdown",
   "id": "67977a2e",
   "metadata": {},
   "source": [
    "# Question 12: Find students who scored more than 90 in all subjects.\n"
   ]
  },
  {
   "cell_type": "code",
   "execution_count": 14,
   "id": "13647d04",
   "metadata": {},
   "outputs": [
    {
     "name": "stdout",
     "output_type": "stream",
     "text": [
      "Students who scored more than 90 in all subjects:\n",
      "Empty DataFrame\n",
      "Columns: [name, marks1, marks2, marks3]\n",
      "Index: []\n"
     ]
    }
   ],
   "source": [
    "students_above_90_all = df[(df['marks1'] > 90) & (df['marks2'] > 90) & (df['marks3'] > 90)]\n",
    "print(\"Students who scored more than 90 in all subjects:\")\n",
    "print(students_above_90_all[['name', 'marks1', 'marks2', 'marks3']])\n"
   ]
  },
  {
   "cell_type": "markdown",
   "id": "2a2cbaa8",
   "metadata": {},
   "source": [
    "# Question 13: What is the correlation between marks1, marks2, and marks3?\n"
   ]
  },
  {
   "cell_type": "code",
   "execution_count": 15,
   "id": "0b6bdec6",
   "metadata": {},
   "outputs": [
    {
     "name": "stdout",
     "output_type": "stream",
     "text": [
      "Correlation between marks1, marks2, and marks3:\n",
      "          marks1    marks2    marks3\n",
      "marks1  1.000000  0.694136  0.669865\n",
      "marks2  0.694136  1.000000  0.103382\n",
      "marks3  0.669865  0.103382  1.000000\n"
     ]
    }
   ],
   "source": [
    "correlation_matrix = df[['marks1', 'marks2', 'marks3']].corr()\n",
    "print(\"Correlation between marks1, marks2, and marks3:\")\n",
    "print(correlation_matrix)\n"
   ]
  },
  {
   "cell_type": "markdown",
   "id": "d6bea089",
   "metadata": {},
   "source": [
    "# Question 14: Calculate the percentage of marks obtained by each student.\n"
   ]
  },
  {
   "cell_type": "code",
   "execution_count": null,
   "id": "16d6bec4",
   "metadata": {},
   "outputs": [
    {
     "name": "stdout",
     "output_type": "stream",
     "text": [
      "      name  total_marks  percentage\n",
      "0    Alice          263   87.666667\n",
      "1      Bob          241   80.333333\n",
      "2  Charlie          274   91.333333\n",
      "3    Diana          263   87.666667\n",
      "4      Eve          251   83.666667\n"
     ]
    }
   ],
   "source": [
    "df['percentage'] = (df['total_marks'] / 300) * 100\n",
    "print(df[['name', 'total_marks', 'percentage']])\n",
    "\n",
    "id | name |phy|chem|math|bio|computer|total|average|percentage|grade|min|max|>80|midian\n"
   ]
  },
  {
   "cell_type": "markdown",
   "id": "16adda3d",
   "metadata": {},
   "source": [
    "# Question 15: Create a new column that classifies students as \"Excellent\" (above 270), \"Good\" (between 240-270), and \"Needs Improvement\" (below 240) based on their total marks.\n"
   ]
  },
  {
   "cell_type": "code",
   "execution_count": 17,
   "id": "d8f4cbbf",
   "metadata": {},
   "outputs": [
    {
     "name": "stdout",
     "output_type": "stream",
     "text": [
      "      name  total_marks performance\n",
      "0    Alice          263        Good\n",
      "1      Bob          241        Good\n",
      "2  Charlie          274   Excellent\n",
      "3    Diana          263        Good\n",
      "4      Eve          251        Good\n"
     ]
    }
   ],
   "source": [
    "def classify_performance(marks):\n",
    "    if marks > 270:\n",
    "        return \"Excellent\"\n",
    "    elif 240 <= marks <= 270:\n",
    "        return \"Good\"\n",
    "    else:\n",
    "        return \"Needs Improvement\"\n",
    "df['performance'] = df['total_marks'].apply(classify_performance)\n",
    "print(df[['name', 'total_marks', 'performance']])\n"
   ]
  },
  {
   "cell_type": "markdown",
   "id": "200af09a",
   "metadata": {},
   "source": [
    "# Question 16: Find the student(s) who improved their marks in every subsequent subject.\n"
   ]
  },
  {
   "cell_type": "code",
   "execution_count": 18,
   "id": "d551e063",
   "metadata": {},
   "outputs": [
    {
     "name": "stdout",
     "output_type": "stream",
     "text": [
      "Students who improved in every subsequent subject:\n",
      "  name  marks1  marks2  marks3\n",
      "4  Eve      80      82      89\n"
     ]
    }
   ],
   "source": [
    "improved_students = df[(df['marks1'] < df['marks2']) & (df['marks2'] < df['marks3'])]\n",
    "print(\"Students who improved in every subsequent subject:\")\n",
    "print(improved_students[['name', 'marks1', 'marks2', 'marks3']])\n"
   ]
  },
  {
   "cell_type": "markdown",
   "id": "3b90e901",
   "metadata": {},
   "source": [
    "# Question 17: What is the range (max-min) of scores for each subject?\n"
   ]
  },
  {
   "cell_type": "code",
   "execution_count": 19,
   "id": "096a1762",
   "metadata": {},
   "outputs": [
    {
     "name": "stdout",
     "output_type": "stream",
     "text": [
      "Range of scores for each subject:\n",
      "marks1    14\n",
      "marks2     9\n",
      "marks3    15\n",
      "dtype: int64\n"
     ]
    }
   ],
   "source": [
    "range_scores = df[['marks1', 'marks2', 'marks3']].max() - df[['marks1', 'marks2', 'marks3']].min()\n",
    "print(\"Range of scores for each subject:\")\n",
    "print(range_scores)\n"
   ]
  },
  {
   "cell_type": "markdown",
   "id": "59b34460",
   "metadata": {},
   "source": [
    "# Question 18: Convert the dataset into a dictionary where student names are keys and their marks as values.\n"
   ]
  },
  {
   "cell_type": "code",
   "execution_count": 20,
   "id": "84814f14",
   "metadata": {},
   "outputs": [
    {
     "name": "stdout",
     "output_type": "stream",
     "text": [
      "Dictionary of students and their marks:\n",
      "{'Alice': {'marks1': 85, 'marks2': 90, 'marks3': 88}, 'Bob': {'marks1': 78, 'marks2': 83, 'marks3': 80}, 'Charlie': {'marks1': 92, 'marks2': 87, 'marks3': 95}, 'Diana': {'marks1': 88, 'marks2': 91, 'marks3': 84}, 'Eve': {'marks1': 80, 'marks2': 82, 'marks3': 89}}\n"
     ]
    }
   ],
   "source": [
    "marks_dict = df.set_index('name')[['marks1', 'marks2', 'marks3']].T.to_dict()\n",
    "print(\"Dictionary of students and their marks:\")\n",
    "print(marks_dict)\n"
   ]
  },
  {
   "cell_type": "markdown",
   "id": "50eadc4b",
   "metadata": {},
   "source": [
    "# Question 19: What is the average total marks of students who scored above 90 in at least one subject?\n"
   ]
  },
  {
   "cell_type": "code",
   "execution_count": 21,
   "id": "6234fe19",
   "metadata": {},
   "outputs": [
    {
     "name": "stdout",
     "output_type": "stream",
     "text": [
      "Average total marks of students scoring above 90 in at least one subject: 268.50\n"
     ]
    }
   ],
   "source": [
    "students_above_90_any = df[(df['marks1'] > 90) | (df['marks2'] > 90) | (df['marks3'] > 90)]\n",
    "average_total_above_90 = students_above_90_any['total_marks'].mean()\n",
    "print(f\"Average total marks of students scoring above 90 in at least one subject: {average_total_above_90:.2f}\")\n"
   ]
  },
  {
   "cell_type": "markdown",
   "id": "a8b0e9ce",
   "metadata": {},
   "source": [
    "# Question 20: Visualize the distribution of scores for each subject using a histogram."
   ]
  },
  {
   "cell_type": "code",
   "execution_count": 10,
   "id": "50b1809c",
   "metadata": {},
   "outputs": [
    {
     "data": {
      "image/png": "[encoded data removed]",
      "text/plain": [
       "<Figure size 800x500 with 1 Axes>"
      ]
     },
     "metadata": {},
     "output_type": "display_data"
    }
   ],
   "source": [
    "import matplotlib.pyplot as plt\n",
    "average_scores = df[['marks1', 'marks2', 'marks3']].mean()\n",
    "plt.figure(figsize=(8, 5))\n",
    "average_scores.plot(kind='bar', color=['#6a5acd', '#ff7f50', '#20b2aa'])\n",
    "plt.title('Average Scores for Each Subject', fontsize=14)\n",
    "plt.xlabel('Subjects', fontsize=12)\n",
    "plt.ylabel('Average Score', fontsize=12)\n",
    "plt.ylim(0, 100)\n",
    "plt.xticks(rotation=0)\n",
    "plt.grid(axis='y', linestyle='--', alpha=0.6)\n",
    "plt.tight_layout()\n",
    "plt.show()\n"
   ]
  },
  {
   "cell_type": "markdown",
   "id": "4a85d95a",
   "metadata": {},
   "source": [
    "# Create a comparison bar chart"
   ]
  },
  {
   "cell_type": "code",
   "execution_count": null,
   "id": "ad0cb9c7",
   "metadata": {},
   "outputs": [],
   "source": [
    "import matplotlib.pyplot as plt\n",
    "# Select the student\n",
    "student_name = \"Bob\"\n",
    "student_row = df[df['name'] == student_name]\n",
    "# Calculate the average marks for the student\n",
    "student_avg = student_row[['marks1', 'marks2', 'marks3']].mean(axis=1).values[0]\n",
    "# Calculate the overall average across all subjects\n",
    "overall_avg = df[['marks1', 'marks2', 'marks3']].mean().mean()\n"
   ]
  },
  {
   "cell_type": "code",
   "execution_count": null,
   "id": "ddfb0bba",
   "metadata": {},
   "outputs": [
    {
     "data": {
      "image/png": "[encoded data removed]",
      "text/plain": [
       "<Figure size 600x500 with 1 Axes>"
      ]
     },
     "metadata": {},
     "output_type": "display_data"
    }
   ],
   "source": [
    "labels = ['Overall Average', f\"{student_name}'s Average\"]\n",
    "scores = [overall_avg, student_avg]\n",
    "plt.figure(figsize=(6, 5))\n",
    "plt.bar(labels, scores, color=['#4682B4', '#FF69B4'])\n",
    "plt.title(f\"{student_name}'s Average vs Overall Average\", fontsize=14)\n",
    "plt.ylabel('Average Score', fontsize=12)\n",
    "plt.ylim(0, 100)\n",
    "for i, v in enumerate(scores):\n",
    "    plt.text(i, v + 1, f\"{v:.2f}\", ha='center', fontsize=12)\n",
    "plt.tight_layout()\n",
    "\n"
   ]
  }
 ],
 "metadata": {
  "kernelspec": {
   "display_name": "Python 3",
   "language": "python",
   "name": "python3"
  },
  "language_info": {
   "codemirror_mode": {
    "name": "ipython",
    "version": 3
   },
   "file_extension": ".py",
   "mimetype": "text/x-python",
   "name": "python",
   "nbconvert_exporter": "python",
   "pygments_lexer": "ipython3",
   "version": "3.11.9"
  }
 },
 "nbformat": 4,
 "nbformat_minor": 5
}
