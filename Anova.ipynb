{
 "cells": [
  {
   "cell_type": "markdown",
   "metadata": {},
   "source": [
    "# ANOVA\n",
    "ANOVA, or Analysis of Variance, is a statistical method used to determine whether there are significant differences between the means of three or more groups. It helps to analyze whether variations in a dataset are due to random chance or are influenced by the independent variable you're testing."
   ]
  },
  {
   "cell_type": "markdown",
   "metadata": {},
   "source": [
    "Doctors want to test a new medication which reduce headache they splits\n",
    "the particular into 3 conditions [15mg,30mg,45mg]\n",
    "later on the doctor ask the patient to rate headache between(1-10) Are there any difference using medicine in 3 conditions using alpha - 0.05?\n",
    "Frequencies are:-\n",
    "15mg -> [9,8,7,8,8,9,8]\n",
    "30mg -> [7,6,6,7,8,7,8]\n",
    "45mg -> [4,3,2,3,4,3,2]"
   ]
  },
  {
   "cell_type": "code",
   "execution_count": null,
   "metadata": {},
   "outputs": [
    {
     "name": "stdout",
     "output_type": "stream",
     "text": [
      "Data:\n",
      "    15mg  30mg  45mg\n",
      "0     9     7     4\n",
      "1     8     6     3\n",
      "2     7     6     2\n",
      "3     8     7     3\n",
      "4     8     8     4\n",
      "5     9     7     3\n",
      "6     8     8     2\n",
      "F-Statistic: 84.63157894736862\n",
      "P-value: 7.004569693845702e-10\n",
      "Reject the null hypothesis: There is a significant difference between the headache ratings across conditions.\n"
     ]
    }
   ],
   "source": [
    "import pandas as pd\n",
    "from scipy.stats import f_oneway\n",
    "\n",
    "#  f_oneway is a function from the SciPy library in Python that performs \n",
    "#  a One-Way ANOVA (Analysis of Variance) test. It is used to determine \n",
    "#  whether there are significant differences between the means of two or \n",
    "#  more independent groups\n",
    "\n",
    "# Step 1: Input the headache ratings for each dosage\n",
    "ratings_15mg = [9, 8, 7, 8, 8, 9, 8]\n",
    "ratings_30mg = [7, 6, 6, 7, 8, 7, 8]\n",
    "ratings_45mg = [4, 3, 2, 3, 4, 3, 2]\n",
    "\n",
    "# Step 2: Create a pandas DataFrame (optional, for organization)\n",
    "data = pd.DataFrame({\n",
    "    \"15mg\": ratings_15mg,\n",
    "    \"30mg\": ratings_30mg,\n",
    "    \"45mg\": ratings_45mg\n",
    "})\n",
    "print(\"Data:\\n\", data)\n",
    "\n",
    "# Step 3: Perform ANOVA using scipy.stats.f_oneway\n",
    "f_statistic, p_value = f_oneway(ratings_15mg, ratings_30mg, ratings_45mg)\n",
    "\n",
    "# Step 4: Display the results\n",
    "print(\"F-Statistic:\", f_statistic)\n",
    "print(\"P-value:\", p_value)\n",
    "\n",
    "# Step 5: Interpret the results\n",
    "alpha = 0.05  # Significance level\n",
    "if p_value < alpha:\n",
    "    print(\"Reject the null hypothesis: There is a significant difference between the headache ratings across conditions.\")\n",
    "else:\n",
    "    print(\"Fail to reject the null hypothesis: There is no significant difference between the headache ratings across conditions.\")"
   ]
  },
  {
   "cell_type": "markdown",
   "metadata": {},
   "source": [
    "F-Statistic: The F-statistic of 84.63 is a measure of how much variability exists between the groups (15mg, 30mg, and 45mg dosages) relative to the variability within the groups. In your case, it is calculated as the ratio of between-group variance to within-group variance."
   ]
  }
 ],
 "metadata": {
  "kernelspec": {
   "display_name": "Python 3",
   "language": "python",
   "name": "python3"
  },
  "language_info": {
   "codemirror_mode": {
    "name": "ipython",
    "version": 3
   },
   "file_extension": ".py",
   "mimetype": "text/x-python",
   "name": "python",
   "nbconvert_exporter": "python",
   "pygments_lexer": "ipython3",
   "version": "3.11.4"
  }
 },
 "nbformat": 4,
 "nbformat_minor": 2
}
