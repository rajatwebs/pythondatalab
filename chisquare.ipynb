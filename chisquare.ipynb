{
 "cells": [
  {
   "cell_type": "markdown",
   "metadata": {},
   "source": [
    "# Chi-Square test \n",
    "The chi-square test is a statistical method used to determine whether there is a significant difference between observed frequencies (what you measure or count) and expected frequencies (what you would expect to find based on a certain hypothesis). It's particularly useful for categorical data—data that can be divided into categories, like \"left-handed vs. right-handed\" or \"weight groups.\""
   ]
  },
  {
   "cell_type": "markdown",
   "metadata": {},
   "source": [
    "In a science class of 75 students 11 are left handed. Does this class fit the theory that 12% of people are left handed."
   ]
  },
  {
   "cell_type": "code",
   "execution_count": 1,
   "metadata": {},
   "outputs": [
    {
     "name": "stdout",
     "output_type": "stream",
     "text": [
      "Observed: [11 64]\n",
      "Expected: [ 9. 66.]\n",
      "Chi-Square Statistic: 0.505050505050505\n",
      "P-value: 0.4772893402694306\n",
      "Fail to reject the null hypothesis: The class fits the theory.\n"
     ]
    }
   ],
   "source": [
    "import pandas as pd\n",
    "from scipy.stats import chisquare\n",
    "\n",
    "# Observed data: 11 left-handed and 64 right-handed (75 - 11)\n",
    "observed = pd.Series([11, 64], index=['Left-handed', 'Right-handed'])\n",
    "\n",
    "# Expected data based on the theory (12% left-handed, 88% right-handed)\n",
    "total_students = 75\n",
    "expected = pd.Series([0.12 * total_students, 0.88 * total_students], index=['Left-handed', 'Right-handed'])\n",
    "\n",
    "# Perform Chi-Square Test\n",
    "chi_stat, p_value = chisquare(f_obs=observed, f_exp=expected)\n",
    "\n",
    "# Results\n",
    "print(\"Observed:\", observed.values)\n",
    "print(\"Expected:\", expected.values)\n",
    "print(\"Chi-Square Statistic:\", chi_stat)\n",
    "print(\"P-value:\", p_value)\n",
    "\n",
    "# Interpret the p-value\n",
    "alpha = 0.05  # Significance level\n",
    "if p_value < alpha:\n",
    "    print(\"Reject the null hypothesis: The class does NOT fit the theory.\")\n",
    "else:\n",
    "    print(\"Fail to reject the null hypothesis: The class fits the theory.\")"
   ]
  }
 ],
 "metadata": {
  "kernelspec": {
   "display_name": "Python 3",
   "language": "python",
   "name": "python3"
  },
  "language_info": {
   "codemirror_mode": {
    "name": "ipython",
    "version": 3
   },
   "file_extension": ".py",
   "mimetype": "text/x-python",
   "name": "python",
   "nbconvert_exporter": "python",
   "pygments_lexer": "ipython3",
   "version": "3.11.4"
  }
 },
 "nbformat": 4,
 "nbformat_minor": 2
}
