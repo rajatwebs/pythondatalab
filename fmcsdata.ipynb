{
 "cells": [
  {
   "cell_type": "code",
   "execution_count": 1,
   "metadata": {},
   "outputs": [
    {
     "name": "stdout",
     "output_type": "stream",
     "text": [
      "   ProductID  ProductName       Category  Price  Stock\n",
      "0        101   Toothpaste  Personal Care     40    100\n",
      "1        102      Shampoo  Personal Care    120     80\n",
      "2        103         Soap  Personal Care     30    150\n",
      "3        104        Chips         Snacks     20    200\n",
      "4        105     Biscuits         Snacks     25    180\n",
      "5        106   Cold Drink      Beverages     50     90\n",
      "6        107         Milk          Dairy     60     60\n",
      "7        108          Tea      Beverages    200     70\n",
      "8        109         Rice        Staples     50    120\n",
      "9        110  Cooking Oil        Staples    150     50\n"
     ]
    }
   ],
   "source": [
    "import pandas as pd\n",
    "\n",
    "# Create FMCG product dataset\n",
    "data = {\n",
    "    \"ProductID\": [101, 102, 103, 104, 105, 106, 107, 108, 109, 110],\n",
    "    \"ProductName\": [\n",
    "        \"Toothpaste\", \"Shampoo\", \"Soap\", \"Chips\", \"Biscuits\",\n",
    "        \"Cold Drink\", \"Milk\", \"Tea\", \"Rice\", \"Cooking Oil\"\n",
    "    ],\n",
    "    \"Category\": [\n",
    "        \"Personal Care\", \"Personal Care\", \"Personal Care\",\n",
    "        \"Snacks\", \"Snacks\", \"Beverages\", \"Dairy\", \n",
    "        \"Beverages\", \"Staples\", \"Staples\"\n",
    "    ],\n",
    "    \"Price\": [40, 120, 30, 20, 25, 50, 60, 200, 50, 150],\n",
    "    \"Stock\": [100, 80, 150, 200, 180, 90, 60, 70, 120, 50]\n",
    "}\n",
    "\n",
    "# Create DataFrame\n",
    "df = pd.DataFrame(data)\n",
    "\n",
    "# Display DataFrame\n",
    "print(df)\n"
   ]
  },
  {
   "cell_type": "code",
   "execution_count": 2,
   "metadata": {},
   "outputs": [
    {
     "name": "stdout",
     "output_type": "stream",
     "text": [
      "       ProductID       Price       Stock\n",
      "count   10.00000   10.000000   10.000000\n",
      "mean   105.50000   74.500000  110.000000\n",
      "std      3.02765   61.030502   51.424162\n",
      "min    101.00000   20.000000   50.000000\n",
      "25%    103.25000   32.500000   72.500000\n",
      "50%    105.50000   50.000000   95.000000\n",
      "75%    107.75000  105.000000  142.500000\n",
      "max    110.00000  200.000000  200.000000\n",
      "ProductID      0\n",
      "ProductName    0\n",
      "Category       0\n",
      "Price          0\n",
      "Stock          0\n",
      "dtype: int64\n"
     ]
    }
   ],
   "source": [
    "# Get summary statistics\n",
    "print(df.describe())\n",
    "\n",
    "# Check for missing values\n",
    "print(df.isnull().sum())\n"
   ]
  },
  {
   "cell_type": "code",
   "execution_count": 3,
   "metadata": {},
   "outputs": [
    {
     "name": "stdout",
     "output_type": "stream",
     "text": [
      "   ProductID ProductName       Category  Price  Stock\n",
      "0        101  Toothpaste  Personal Care     40    100\n",
      "1        102     Shampoo  Personal Care    120     80\n",
      "2        103        Soap  Personal Care     30    150\n"
     ]
    }
   ],
   "source": [
    "# Filter products by category\n",
    "personal_care_products = df[df[\"Category\"] == \"Personal Care\"]\n",
    "print(personal_care_products)\n"
   ]
  },
  {
   "cell_type": "code",
   "execution_count": 13,
   "metadata": {},
   "outputs": [
    {
     "name": "stdout",
     "output_type": "stream",
     "text": [
      "   ProductID  ProductName       Category  Price  Stock  TotalStockValue\n",
      "0        101   Toothpaste  Personal Care     40    100             4000\n",
      "1        102      Shampoo  Personal Care    120     80             9600\n",
      "2        103         Soap  Personal Care     30    150             4500\n",
      "3        104        Chips         Snacks     20    200             4000\n",
      "4        105     Biscuits         Snacks     25    180             4500\n",
      "5        106   Cold Drink      Beverages     50     90             4500\n",
      "6        107         Milk          Dairy     60     60             3600\n",
      "7        108          Tea      Beverages    200     70            14000\n",
      "8        109         Rice        Staples     50    120             6000\n",
      "9        110  Cooking Oil        Staples    150     50             7500\n"
     ]
    }
   ],
   "source": [
    "# Add a new column for total stock value\n",
    "df[\"TotalStockValue\"] = df[\"Price\"] * df[\"Stock\"]\n",
    "print(df)\n"
   ]
  },
  {
   "cell_type": "code",
   "execution_count": 4,
   "metadata": {},
   "outputs": [
    {
     "name": "stdout",
     "output_type": "stream",
     "text": [
      "Category\n",
      "Beverages        160\n",
      "Dairy             60\n",
      "Personal Care    330\n",
      "Snacks           380\n",
      "Staples          170\n",
      "Name: Stock, dtype: int64\n"
     ]
    }
   ],
   "source": [
    "# Group by category and summarize stock\n",
    "category_stock = df.groupby(\"Category\")[\"Stock\"].sum()\n",
    "print(category_stock)\n"
   ]
  },
  {
   "cell_type": "code",
   "execution_count": 5,
   "metadata": {},
   "outputs": [
    {
     "name": "stdout",
     "output_type": "stream",
     "text": [
      "   ProductID  ProductName       Category  Price  Stock\n",
      "7        108          Tea      Beverages    200     70\n",
      "9        110  Cooking Oil        Staples    150     50\n",
      "1        102      Shampoo  Personal Care    120     80\n",
      "6        107         Milk          Dairy     60     60\n",
      "5        106   Cold Drink      Beverages     50     90\n",
      "8        109         Rice        Staples     50    120\n",
      "0        101   Toothpaste  Personal Care     40    100\n",
      "2        103         Soap  Personal Care     30    150\n",
      "4        105     Biscuits         Snacks     25    180\n",
      "3        104        Chips         Snacks     20    200\n"
     ]
    }
   ],
   "source": [
    "# Sort by price in descending order\n",
    "sorted_df = df.sort_values(by=\"Price\", ascending=False)\n",
    "print(sorted_df)\n"
   ]
  },
  {
   "cell_type": "code",
   "execution_count": 6,
   "metadata": {},
   "outputs": [
    {
     "name": "stdout",
     "output_type": "stream",
     "text": [
      "   ProductID ProductName   Category  Price  Stock\n",
      "7        108         Tea  Beverages    200     70\n",
      "   ProductID ProductName Category  Price  Stock\n",
      "3        104       Chips   Snacks     20    200\n"
     ]
    }
   ],
   "source": [
    "# Find the most expensive product\n",
    "most_expensive = df[df[\"Price\"] == df[\"Price\"].max()]\n",
    "print(most_expensive)\n",
    "\n",
    "# Find the cheapest product\n",
    "cheapest = df[df[\"Price\"] == df[\"Price\"].min()]\n",
    "print(cheapest)\n"
   ]
  },
  {
   "cell_type": "code",
   "execution_count": 9,
   "metadata": {},
   "outputs": [
    {
     "name": "stdout",
     "output_type": "stream",
     "text": [
      "   ProductID  ProductName       Category  Price  Stock  TotalStockValue\n",
      "0        101   Toothpaste  Personal Care     40    100             4000\n",
      "1        102      Shampoo  Personal Care    120     80             9600\n",
      "2        103         Soap  Personal Care     30    150             4500\n",
      "3        104        Chips         Snacks     20    200             4000\n",
      "4        105     Biscuits         Snacks     25    180             4500\n",
      "5        106   Cold Drink      Beverages     50     90             4500\n",
      "6        107         Milk          Dairy     60     60             3600\n",
      "7        108          Tea      Beverages    200     70            14000\n",
      "8        109         Rice        Staples     50    120             6000\n",
      "9        110  Cooking Oil        Staples    150     50             7500\n"
     ]
    }
   ],
   "source": [
    "# Add a new column for total stock value\n",
    "df[\"TotalStockValue\"] = df[\"Price\"] * df[\"Stock\"]\n",
    "print(df)\n"
   ]
  },
  {
   "cell_type": "code",
   "execution_count": 11,
   "metadata": {},
   "outputs": [
    {
     "name": "stdout",
     "output_type": "stream",
     "text": [
      "Total Stock Value: 62200\n"
     ]
    }
   ],
   "source": [
    "# Calculate total stock value\n",
    "total_stock_value = df[\"TotalStockValue\"].sum()\n",
    "print(f\"Total Stock Value: {total_stock_value}\")\n"
   ]
  },
  {
   "cell_type": "code",
   "execution_count": 12,
   "metadata": {},
   "outputs": [],
   "source": [
    "# Export to CSV\n",
    "df.to_csv(\"fmcg_analysis.csv\", index=False)\n"
   ]
  }
 ],
 "metadata": {
  "kernelspec": {
   "display_name": "Python 3",
   "language": "python",
   "name": "python3"
  },
  "language_info": {
   "codemirror_mode": {
    "name": "ipython",
    "version": 3
   },
   "file_extension": ".py",
   "mimetype": "text/x-python",
   "name": "python",
   "nbconvert_exporter": "python",
   "pygments_lexer": "ipython3",
   "version": "3.11.4"
  }
 },
 "nbformat": 4,
 "nbformat_minor": 2
}
