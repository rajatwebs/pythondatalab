{
 "cells": [
  {
   "cell_type": "markdown",
   "metadata": {},
   "source": [
    "# Calculate the correlation coefficient Step ty Step\n"
   ]
  },
  {
   "cell_type": "markdown",
   "metadata": {},
   "source": [
    "Create a sample dataset\n"
   ]
  },
  {
   "cell_type": "markdown",
   "metadata": {},
   "source": [
    "\n",
    "### 🔗 What Is Correlation?\n",
    "Correlation is a statistical concept that measures the relationship between two variables. If two variables tend to move together in a predictable way, they are said to be correlated.\n",
    "\n",
    "- **Positive correlation**: When one variable increases, the other tends to increase.  \n",
    "  *Example:* Advertising spend vs. sales revenue.\n",
    "- **Negative correlation**: When one variable increases, the other tends to decrease.  \n",
    "  *Example:* Number of complaints vs. customer satisfaction.\n",
    "- **No correlation**: The variables don't show any consistent relationship.\n",
    "\n",
    "---\n",
    "\n",
    "### 📐 What Is the Correlation Coefficient?\n",
    "The **correlation coefficient**, usually represented as **_r_**, quantifies the strength and direction of a correlation.\n",
    "\n",
    "- It ranges from **-1 to +1**\n",
    "  \n",
    "| Value of _r_ | Interpretation                        |\n",
    "|--------------|----------------------------------------|\n",
    "| +1           | Perfect positive correlation          |\n",
    "|  0           | No correlation                         |\n",
    "| -1           | Perfect negative correlation          |\n",
    "| 0.7 to 0.9   | Strong positive correlation           |\n",
    "| -0.7 to -0.9 | Strong negative correlation           |\n",
    "| 0.3 to 0.6   | Moderate correlation (positive or negative) |\n",
    "| <0.3         | Weak correlation                      |\n",
    "\n",
    "> In Python, you can compute this using libraries like `Pandas` or `NumPy`:\n",
    "\n",
    "\n",
    "\n"
   ]
  },
  {
   "cell_type": "code",
   "execution_count": null,
   "metadata": {},
   "outputs": [
    {
     "name": "stdout",
     "output_type": "stream",
     "text": [
      "Correlation Coefficient: 0.87\n"
     ]
    }
   ],
   "source": [
    "import pandas as pd\n",
    "\n",
    "# Sample DataFrame\n",
    "df = pd.DataFrame({\n",
    "    'ad_spend': [100, 200, 300, 400, 500],\n",
    "    'sales': [1300, 2000, 3150, 4300, 5200]\n",
    "})\n",
    "\n",
    "# Compute correlation\n",
    "correlation = df['ad_spend'].corr(df['sales'])\n",
    "print(f\"Correlation Coefficient: {correlation:.2f}\")"
   ]
  },
  {
   "cell_type": "code",
   "execution_count": 4,
   "metadata": {},
   "outputs": [
    {
     "name": "stdout",
     "output_type": "stream",
     "text": [
      "Correlation Coefficient: -0.96\n"
     ]
    }
   ],
   "source": [
    "import pandas as pd\n",
    "\n",
    "# Modified DataFrame to show strong negative correlation\n",
    "df = pd.DataFrame({\n",
    "    'ad_spend': [100, 200, 250, 400, 500],\n",
    "    'sales': [5000, 4000, 2500, 1500, 1000]  # Sales decrease as ad_spend increases\n",
    "})\n",
    "\n",
    "# Compute correlation\n",
    "correlation = df['ad_spend'].corr(df['sales'])\n",
    "print(f\"Correlation Coefficient: {correlation:.2f}\")"
   ]
  },
  {
   "cell_type": "markdown",
   "metadata": {},
   "source": [
    "### Exmaple 2"
   ]
  },
  {
   "cell_type": "code",
   "execution_count": 1,
   "metadata": {},
   "outputs": [],
   "source": [
    "import pandas as pd\n",
    "\n",
    "# Create a simple dataset\n",
    "data = {\n",
    "    'x': [10, 20, 30, 40, 50],\n",
    "    'y': [87, 78, 68, 92, 81]\n",
    "}"
   ]
  },
  {
   "cell_type": "markdown",
   "metadata": {},
   "source": [
    "Create a DataFrame"
   ]
  },
  {
   "cell_type": "code",
   "execution_count": 2,
   "metadata": {},
   "outputs": [
    {
     "name": "stdout",
     "output_type": "stream",
     "text": [
      "DataFrame:\n",
      "     x   y\n",
      "0  10  87\n",
      "1  20  78\n",
      "2  30  68\n",
      "3  40  92\n",
      "4  50  81\n"
     ]
    }
   ],
   "source": [
    "df = pd.DataFrame(data)\n",
    "print(\"DataFrame:\\n\", df)\n"
   ]
  },
  {
   "cell_type": "markdown",
   "metadata": {},
   "source": [
    "Calculate the necessary values"
   ]
  },
  {
   "cell_type": "code",
   "execution_count": 3,
   "metadata": {},
   "outputs": [],
   "source": [
    "sum_x = df['x'].sum()\n",
    "sum_y = df['y'].sum()\n",
    "sum_xy = (df['x'] * df['y']).sum()\n",
    "sum_x2 = (df['x'] ** 2).sum()\n",
    "sum_y2 = (df['y'] ** 2).sum()"
   ]
  },
  {
   "cell_type": "markdown",
   "metadata": {},
   "source": [
    "Print Output"
   ]
  },
  {
   "cell_type": "code",
   "execution_count": 4,
   "metadata": {},
   "outputs": [
    {
     "name": "stdout",
     "output_type": "stream",
     "text": [
      "Sum of x: 150\n",
      "Sum of y: 406\n",
      "Sum of xy: 12200\n",
      "Sum of x^2: 5500\n",
      "Sum of y^2: 33302\n"
     ]
    }
   ],
   "source": [
    "print(\"Sum of x:\", sum_x)\n",
    "print(\"Sum of y:\", sum_y)\n",
    "print(\"Sum of xy:\", sum_xy)\n",
    "print(\"Sum of x^2:\", sum_x2)\n",
    "print(\"Sum of y^2:\", sum_y2)"
   ]
  },
  {
   "cell_type": "markdown",
   "metadata": {},
   "source": [
    "Calculate the correlation coefficient"
   ]
  },
  {
   "cell_type": "markdown",
   "metadata": {},
   "source": []
  },
  {
   "cell_type": "code",
   "execution_count": 5,
   "metadata": {},
   "outputs": [
    {
     "name": "stdout",
     "output_type": "stream",
     "text": [
      "Correlation Coefficient: 0.03456505649101418\n"
     ]
    }
   ],
   "source": [
    "n = len(df)\n",
    "numerator = n * sum_xy - sum_x * sum_y\n",
    "denominator = ((n * sum_x2 - sum_x**2) * (n * sum_y2 - sum_y**2))**0.5\n",
    "correlation_coefficient = numerator / denominator\n",
    "print(\"Correlation Coefficient:\", correlation_coefficient)"
   ]
  },
  {
   "cell_type": "markdown",
   "metadata": {},
   "source": [
    "Verify with pandas `corr` method"
   ]
  },
  {
   "cell_type": "code",
   "execution_count": 13,
   "metadata": {},
   "outputs": [
    {
     "name": "stdout",
     "output_type": "stream",
     "text": [
      "Correlation matrix:\n",
      "           x         y\n",
      "x  1.000000  0.034565\n",
      "y  0.034565  1.000000\n"
     ]
    }
   ],
   "source": [
    "correlation_matrix = df.corr()\n",
    "print(\"Correlation matrix:\\n\", correlation_matrix)"
   ]
  },
  {
   "cell_type": "code",
   "execution_count": 6,
   "metadata": {},
   "outputs": [
    {
     "name": "stdout",
     "output_type": "stream",
     "text": [
      "R-squared value: 0.9841473436389481\n"
     ]
    }
   ],
   "source": [
    "import numpy as np\n",
    "data = {\n",
    "    'x': [10, 15, 30, 40, 50],\n",
    "    'y': [90, 70, 45, 30, 10]  # y decreases as x increases\n",
    "}\n",
    "\n",
    "# Convert to numpy arrays\n",
    "x = np.array(data['x'])\n",
    "y = np.array(data['y'])\n",
    "\n",
    "# Compute mean of y\n",
    "y_mean = np.mean(y)\n",
    "\n",
    "# Perform linear regression\n",
    "slope, intercept = np.polyfit(x, y, 1)\n",
    "\n",
    "# Compute predicted values\n",
    "y_pred = slope * x + intercept\n",
    "\n",
    "# Calculate R-squared using the formula\n",
    "ss_total = np.sum((y - y_mean) ** 2)\n",
    "ss_residual = np.sum((y - y_pred) ** 2)\n",
    "r_squared = 1 - (ss_residual / ss_total)\n",
    "\n",
    "print(\"R-squared value:\", r_squared)"
   ]
  },
  {
   "cell_type": "code",
   "execution_count": 14,
   "metadata": {},
   "outputs": [
    {
     "data": {
      "image/png": "[encoded data removed]",
      "text/plain": [
       "<Figure size 800x500 with 1 Axes>"
      ]
     },
     "metadata": {},
     "output_type": "display_data"
    }
   ],
   "source": [
    "import numpy as np\n",
    "import matplotlib.pyplot as plt\n",
    "\n",
    "# Data\n",
    "x = np.array([10, 15, 30, 40, 50])\n",
    "y = np.array([90, 70, 45, 30, 10])\n",
    "\n",
    "# Fit a linear regression line (degree 1 polynomial)\n",
    "slope, intercept = np.polyfit(x, y, 1)\n",
    "trend_line = slope * x + intercept\n",
    "\n",
    "# Plotting\n",
    "plt.figure(figsize=(8, 5))\n",
    "plt.scatter(x, y, color='blue', label='Data Points')\n",
    "plt.plot(x, trend_line, color='red', label=f'Trend Line: y = {slope:.2f}x + {intercept:.2f}')\n",
    "plt.title('Negative Linear Trend')\n",
    "plt.xlabel('x')\n",
    "plt.ylabel('y')\n",
    "plt.legend()\n",
    "plt.grid(True)\n",
    "plt.tight_layout()\n",
    "plt.show()"
   ]
  }
 ],
 "metadata": {
  "kernelspec": {
   "display_name": "Python 3",
   "language": "python",
   "name": "python3"
  },
  "language_info": {
   "codemirror_mode": {
    "name": "ipython",
    "version": 3
   },
   "file_extension": ".py",
   "mimetype": "text/x-python",
   "name": "python",
   "nbconvert_exporter": "python",
   "pygments_lexer": "ipython3",
   "version": "3.13.5"
  }
 },
 "nbformat": 4,
 "nbformat_minor": 2
}
