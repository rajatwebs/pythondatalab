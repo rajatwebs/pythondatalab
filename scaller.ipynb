{
 "cells": [
  {
   "cell_type": "markdown",
   "metadata": {},
   "source": [
    "## Standard Scaler\n",
    "The StandardScaler() function is part of the sklearn.preprocessing module in the popular Python machine learning library, scikit-learn. When you apply StandardScaler() to your data, it transforms the features by removing the mean and scaling to unit variance. Specifically, it standardizes the features to have a mean of 0 and a standard deviation of 1.\n",
    "\n",
    "Here's what you get from StandardScaler():\n",
    "\n",
    "Scaled Features: The features are rescaled so that they have a mean of 0 and a standard deviation of 1. This helps in ensuring that each feature contributes equally to the model.\n",
    "\n",
    "Fit and Transform Methods: StandardScaler() provides two key methods:\n",
    "\n",
    "fit(): Computes the mean and standard deviation for scaling.\n",
    "\n",
    "transform(): Scales the data based on the computed mean and standard deviation.\n",
    "\n"
   ]
  },
  {
   "cell_type": "code",
   "execution_count": null,
   "metadata": {},
   "outputs": [
    {
     "name": "stdout",
     "output_type": "stream",
     "text": [
      "[[-1.22474487 -1.22474487]\n",
      " [ 0.          0.        ]\n",
      " [ 1.22474487  1.22474487]]\n",
      "[[1. 2.]\n",
      " [3. 4.]\n",
      " [5. 6.]]\n"
     ]
    }
   ],
   "source": [
    "from sklearn.preprocessing import StandardScaler\n",
    "import numpy as np\n",
    "\n",
    "# Sample data\n",
    "data = np.array([[1, 2], [3, 4], [5, 6]])\n",
    "# 1 2\n",
    "# 3 4\n",
    "# 5 6\n",
    "\n",
    "# Initialize the scaler\n",
    "scaler = StandardScaler()\n",
    "\n",
    "# Fit the scaler to the data and transform it\n",
    "scaled_data = scaler.fit_transform(data)\n",
    "\n",
    "# Output the scaled data\n",
    "print(scaled_data)\n",
    "\n"
   ]
  },
  {
   "cell_type": "markdown",
   "metadata": {},
   "source": [
    "The StandardScaler() computes the mean and standard deviation for each feature:\n",
    "\n",
    "Mean: [3, 4] (average of each column)\n",
    "\n",
    "Standard Deviation: [1.63299316, 1.63299316] (standard deviation of each column)\n",
    "\n",
    "The scaled data is obtained by applying the formula: $$ X_{scaled} = \\frac{X - \\mu}{\\sigma} $$\n",
    "\n",
    "Therefore:\n",
    "\n",
    "The first row [-1.22474487, -1.22474487] indicates that the original first row [1, 2] is 1.2247 standard deviations below the mean for both features.\n",
    "\n",
    "The second row [0, 0] indicates that the original second row [3, 4] is at the mean for both features.\n",
    "\n",
    "The third row [1.22474487, 1.22474487] indicates that the original third row [5, 6] is 1.2247 standard deviations above the mean for both features."
   ]
  }
 ],
 "metadata": {
  "kernelspec": {
   "display_name": "Python 3",
   "language": "python",
   "name": "python3"
  },
  "language_info": {
   "codemirror_mode": {
    "name": "ipython",
    "version": 3
   },
   "file_extension": ".py",
   "mimetype": "text/x-python",
   "name": "python",
   "nbconvert_exporter": "python",
   "pygments_lexer": "ipython3",
   "version": "3.11.4"
  }
 },
 "nbformat": 4,
 "nbformat_minor": 2
}
